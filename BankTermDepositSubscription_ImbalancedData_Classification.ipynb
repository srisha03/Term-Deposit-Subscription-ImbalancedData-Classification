{
 "cells": [
  {
   "cell_type": "markdown",
   "metadata": {},
   "source": [
    "## The classification goal is to predict if the client will subscribe a term deposit or not"
   ]
  },
  {
   "cell_type": "markdown",
   "metadata": {},
   "source": [
    "## Results"
   ]
  },
  {
   "cell_type": "markdown",
   "metadata": {},
   "source": [
    "- Best Performance from - Cost Sensitive Kernel SVC\n",
    "- Based on F2 Score:      "
   ]
  },
  {
   "cell_type": "markdown",
   "metadata": {},
   "source": [
    "- Best parameters: C =0.001, kernel = 'rbf' class_weight: {0: 1, 1: 1}               \n",
    "- Best Mean cross-validation score: 0.92\n",
    "\n",
    "- SVC Test Performance:  0.926687464549064\n",
    "- SVC Val Performance:  0.9249358426005133"
   ]
  },
  {
   "cell_type": "markdown",
   "metadata": {},
   "source": [
    "- Multiple models gave the same score for F2 score so among these the model was picked based on ROC_AUC score\n"
   ]
  },
  {
   "cell_type": "markdown",
   "metadata": {},
   "source": [
    "\n",
    "- Best parameters: {'class_weight': {0: 1, 1: 1}}\n",
    "\n",
    "- Best Mean cross-validation score: 0.81\n",
    "\n",
    "- SVC Test Performance:  0.8146890571376564\n",
    "- SVC Val Performance:  0.8214070451064671"
   ]
  },
  {
   "cell_type": "markdown",
   "metadata": {},
   "source": [
    "## The chosen metric:"
   ]
  },
  {
   "cell_type": "raw",
   "metadata": {},
   "source": [
    "The metric chosen this particular task is F2Score:\n",
    "\n",
    "The task is to predict whether a preson will subscribe to a term deposit.\n",
    "\n",
    "To achieve an optimal result we would like to maximize two components:\n",
    "\n",
    "(1) The \"True Positive Rate\" aka Sensitivity aka Recall. Given by: TP/(TP+FN)\n",
    "(2) The Precision - How many of the positive predictions, are in fact correct. Given by: TP/(TP+FP)\n",
    "\n",
    "To obtain a balance between both we use F Measure which is given by: (2*Precision*Recall)/(Precision+Recall)"
   ]
  },
  {
   "cell_type": "code",
   "execution_count": 1,
   "metadata": {},
   "outputs": [
    {
     "data": {
      "text/plain": [
       "make_scorer(fbeta_score, beta=2)"
      ]
     },
     "execution_count": 1,
     "metadata": {},
     "output_type": "execute_result"
    }
   ],
   "source": [
    "#creating a scorer for F2 score so that we can given an emphases on the minority class predictions\n",
    "from sklearn.metrics import fbeta_score, make_scorer\n",
    "f2score = make_scorer(fbeta_score, beta=2)\n",
    "f2score"
   ]
  },
  {
   "cell_type": "markdown",
   "metadata": {},
   "source": [
    "## Importing Libraries and Data"
   ]
  },
  {
   "cell_type": "code",
   "execution_count": 410,
   "metadata": {},
   "outputs": [],
   "source": [
    "import pandas as pd\n",
    "import numpy as np\n",
    "import seaborn as sns\n",
    "import matplotlib.pyplot as plt\n",
    "import ppscore as pps"
   ]
  },
  {
   "cell_type": "code",
   "execution_count": 411,
   "metadata": {},
   "outputs": [],
   "source": [
    "data = pd.read_csv(\"D:\\\\EverythingDS\\\\DataSets\\\\bank\\\\banking_termdeposit.csv\")"
   ]
  },
  {
   "cell_type": "code",
   "execution_count": 412,
   "metadata": {},
   "outputs": [
    {
     "data": {
      "text/html": [
       "<div>\n",
       "<style scoped>\n",
       "    .dataframe tbody tr th:only-of-type {\n",
       "        vertical-align: middle;\n",
       "    }\n",
       "\n",
       "    .dataframe tbody tr th {\n",
       "        vertical-align: top;\n",
       "    }\n",
       "\n",
       "    .dataframe thead th {\n",
       "        text-align: right;\n",
       "    }\n",
       "</style>\n",
       "<table border=\"1\" class=\"dataframe\">\n",
       "  <thead>\n",
       "    <tr style=\"text-align: right;\">\n",
       "      <th></th>\n",
       "      <th>age</th>\n",
       "      <th>job</th>\n",
       "      <th>marital</th>\n",
       "      <th>education</th>\n",
       "      <th>default</th>\n",
       "      <th>balance</th>\n",
       "      <th>housing</th>\n",
       "      <th>loan</th>\n",
       "      <th>contact</th>\n",
       "      <th>day</th>\n",
       "      <th>month</th>\n",
       "      <th>duration</th>\n",
       "      <th>campaign</th>\n",
       "      <th>pdays</th>\n",
       "      <th>previous</th>\n",
       "      <th>poutcome</th>\n",
       "      <th>y</th>\n",
       "    </tr>\n",
       "  </thead>\n",
       "  <tbody>\n",
       "    <tr>\n",
       "      <td>0</td>\n",
       "      <td>50.0</td>\n",
       "      <td>admin.</td>\n",
       "      <td>single</td>\n",
       "      <td>secondary</td>\n",
       "      <td>no</td>\n",
       "      <td>2252.0</td>\n",
       "      <td>no</td>\n",
       "      <td>no</td>\n",
       "      <td>cellular</td>\n",
       "      <td>30.0</td>\n",
       "      <td>apr</td>\n",
       "      <td>652.0</td>\n",
       "      <td>2.0</td>\n",
       "      <td>-1.0</td>\n",
       "      <td>0.0</td>\n",
       "      <td>unknown</td>\n",
       "      <td>yes</td>\n",
       "    </tr>\n",
       "    <tr>\n",
       "      <td>1</td>\n",
       "      <td>32.0</td>\n",
       "      <td>management</td>\n",
       "      <td>single</td>\n",
       "      <td>tertiary</td>\n",
       "      <td>no</td>\n",
       "      <td>10281.0</td>\n",
       "      <td>no</td>\n",
       "      <td>no</td>\n",
       "      <td>cellular</td>\n",
       "      <td>22.0</td>\n",
       "      <td>apr</td>\n",
       "      <td>400.0</td>\n",
       "      <td>1.0</td>\n",
       "      <td>-1.0</td>\n",
       "      <td>0.0</td>\n",
       "      <td>unknown</td>\n",
       "      <td>yes</td>\n",
       "    </tr>\n",
       "    <tr>\n",
       "      <td>2</td>\n",
       "      <td>77.0</td>\n",
       "      <td>retired</td>\n",
       "      <td>divorced</td>\n",
       "      <td>secondary</td>\n",
       "      <td>no</td>\n",
       "      <td>0.0</td>\n",
       "      <td>NaN</td>\n",
       "      <td>no</td>\n",
       "      <td>NaN</td>\n",
       "      <td>25.0</td>\n",
       "      <td>sep</td>\n",
       "      <td>210.0</td>\n",
       "      <td>1.0</td>\n",
       "      <td>-1.0</td>\n",
       "      <td>0.0</td>\n",
       "      <td>unknown</td>\n",
       "      <td>yes</td>\n",
       "    </tr>\n",
       "    <tr>\n",
       "      <td>3</td>\n",
       "      <td>53.0</td>\n",
       "      <td>management</td>\n",
       "      <td>NaN</td>\n",
       "      <td>NaN</td>\n",
       "      <td>no</td>\n",
       "      <td>2152.0</td>\n",
       "      <td>no</td>\n",
       "      <td>no</td>\n",
       "      <td>cellular</td>\n",
       "      <td>13.0</td>\n",
       "      <td>feb</td>\n",
       "      <td>75.0</td>\n",
       "      <td>3.0</td>\n",
       "      <td>-1.0</td>\n",
       "      <td>0.0</td>\n",
       "      <td>unknown</td>\n",
       "      <td>yes</td>\n",
       "    </tr>\n",
       "    <tr>\n",
       "      <td>4</td>\n",
       "      <td>40.0</td>\n",
       "      <td>self-employed</td>\n",
       "      <td>single</td>\n",
       "      <td>tertiary</td>\n",
       "      <td>no</td>\n",
       "      <td>1616.0</td>\n",
       "      <td>no</td>\n",
       "      <td>no</td>\n",
       "      <td>telephone</td>\n",
       "      <td>28.0</td>\n",
       "      <td>jul</td>\n",
       "      <td>1009.0</td>\n",
       "      <td>7.0</td>\n",
       "      <td>-1.0</td>\n",
       "      <td>0.0</td>\n",
       "      <td>unknown</td>\n",
       "      <td>yes</td>\n",
       "    </tr>\n",
       "  </tbody>\n",
       "</table>\n",
       "</div>"
      ],
      "text/plain": [
       "    age            job   marital  education default  balance housing loan  \\\n",
       "0  50.0         admin.    single  secondary      no   2252.0      no   no   \n",
       "1  32.0     management    single   tertiary      no  10281.0      no   no   \n",
       "2  77.0        retired  divorced  secondary      no      0.0     NaN   no   \n",
       "3  53.0     management       NaN        NaN      no   2152.0      no   no   \n",
       "4  40.0  self-employed    single   tertiary      no   1616.0      no   no   \n",
       "\n",
       "     contact   day month  duration  campaign  pdays  previous poutcome    y  \n",
       "0   cellular  30.0   apr     652.0       2.0   -1.0       0.0  unknown  yes  \n",
       "1   cellular  22.0   apr     400.0       1.0   -1.0       0.0  unknown  yes  \n",
       "2        NaN  25.0   sep     210.0       1.0   -1.0       0.0  unknown  yes  \n",
       "3   cellular  13.0   feb      75.0       3.0   -1.0       0.0  unknown  yes  \n",
       "4  telephone  28.0   jul    1009.0       7.0   -1.0       0.0  unknown  yes  "
      ]
     },
     "execution_count": 412,
     "metadata": {},
     "output_type": "execute_result"
    }
   ],
   "source": [
    "data.head()"
   ]
  },
  {
   "cell_type": "code",
   "execution_count": 413,
   "metadata": {},
   "outputs": [],
   "source": [
    "# from sklearn.utils import shuffle\n",
    "# data = shuffle(data)\n",
    "# data.reset_index(inplace=True, drop=True)"
   ]
  },
  {
   "cell_type": "code",
   "execution_count": 414,
   "metadata": {},
   "outputs": [
    {
     "name": "stdout",
     "output_type": "stream",
     "text": [
      "<class 'pandas.core.frame.DataFrame'>\n",
      "RangeIndex: 18240 entries, 0 to 18239\n",
      "Data columns (total 17 columns):\n",
      "age          17679 non-null float64\n",
      "job          17850 non-null object\n",
      "marital      17305 non-null object\n",
      "education    17545 non-null object\n",
      "default      16815 non-null object\n",
      "balance      18061 non-null float64\n",
      "housing      17298 non-null object\n",
      "loan         17513 non-null object\n",
      "contact      16677 non-null object\n",
      "day          16755 non-null float64\n",
      "month        16952 non-null object\n",
      "duration     16438 non-null float64\n",
      "campaign     16774 non-null float64\n",
      "pdays        16767 non-null float64\n",
      "previous     17124 non-null float64\n",
      "poutcome     18240 non-null object\n",
      "y            18240 non-null object\n",
      "dtypes: float64(7), object(10)\n",
      "memory usage: 2.4+ MB\n"
     ]
    }
   ],
   "source": [
    "data.info()"
   ]
  },
  {
   "cell_type": "markdown",
   "metadata": {},
   "source": [
    "## Checking Requirements"
   ]
  },
  {
   "cell_type": "markdown",
   "metadata": {},
   "source": [
    "#### Rows and Coulmn Count"
   ]
  },
  {
   "cell_type": "code",
   "execution_count": 415,
   "metadata": {},
   "outputs": [
    {
     "data": {
      "text/plain": [
       "(18240, 17)"
      ]
     },
     "execution_count": 415,
     "metadata": {},
     "output_type": "execute_result"
    }
   ],
   "source": [
    "data.shape"
   ]
  },
  {
   "cell_type": "markdown",
   "metadata": {},
   "source": [
    "#### Balance of the target variable"
   ]
  },
  {
   "cell_type": "code",
   "execution_count": 416,
   "metadata": {},
   "outputs": [
    {
     "data": {
      "text/plain": [
       "no     0.710033\n",
       "yes    0.289967\n",
       "Name: y, dtype: float64"
      ]
     },
     "execution_count": 416,
     "metadata": {},
     "output_type": "execute_result"
    }
   ],
   "source": [
    "x = data[\"y\"].value_counts()\n",
    "x/x.sum()"
   ]
  },
  {
   "cell_type": "code",
   "execution_count": 417,
   "metadata": {},
   "outputs": [
    {
     "data": {
      "text/plain": [
       "age           561\n",
       "job           390\n",
       "marital       935\n",
       "education     695\n",
       "default      1425\n",
       "balance       179\n",
       "housing       942\n",
       "loan          727\n",
       "contact      1563\n",
       "day          1485\n",
       "month        1288\n",
       "duration     1802\n",
       "campaign     1466\n",
       "pdays        1473\n",
       "previous     1116\n",
       "poutcome        0\n",
       "y               0\n",
       "dtype: int64"
      ]
     },
     "execution_count": 417,
     "metadata": {},
     "output_type": "execute_result"
    }
   ],
   "source": [
    "# cumulative missing values\n",
    "data.isnull().sum()"
   ]
  },
  {
   "cell_type": "code",
   "execution_count": 418,
   "metadata": {},
   "outputs": [
    {
     "data": {
      "text/plain": [
       "age          0.030757\n",
       "job          0.021382\n",
       "marital      0.051261\n",
       "education    0.038103\n",
       "default      0.078125\n",
       "balance      0.009814\n",
       "housing      0.051645\n",
       "loan         0.039857\n",
       "contact      0.085691\n",
       "day          0.081414\n",
       "month        0.070614\n",
       "duration     0.098794\n",
       "campaign     0.080373\n",
       "pdays        0.080757\n",
       "previous     0.061184\n",
       "poutcome     0.000000\n",
       "y            0.000000\n",
       "dtype: float64"
      ]
     },
     "execution_count": 418,
     "metadata": {},
     "output_type": "execute_result"
    }
   ],
   "source": [
    "# percentage missing values\n",
    "data.isnull().mean()"
   ]
  },
  {
   "cell_type": "markdown",
   "metadata": {},
   "source": [
    "#### Percentage of Missing Values"
   ]
  },
  {
   "cell_type": "code",
   "execution_count": 419,
   "metadata": {},
   "outputs": [
    {
     "data": {
      "text/plain": [
       "5.175116099071207"
      ]
     },
     "execution_count": 419,
     "metadata": {},
     "output_type": "execute_result"
    }
   ],
   "source": [
    "(data.isna().sum().sum()/(len(df.axes[0])*len(df.axes[1])))*100"
   ]
  },
  {
   "cell_type": "markdown",
   "metadata": {},
   "source": [
    "#### Data Exploration"
   ]
  },
  {
   "cell_type": "code",
   "execution_count": 420,
   "metadata": {},
   "outputs": [
    {
     "name": "stdout",
     "output_type": "stream",
     "text": [
      "There are 0 discrete variables\n",
      "There are 7 continuous variables\n",
      "There are 9 categorical variables\n"
     ]
    }
   ],
   "source": [
    "# numerical: discrete vs continuous\n",
    "discrete = [var for var in data.columns if data[var].dtype!='O' and var!='y' and data[var].nunique()<10]\n",
    "\n",
    "continuous = [var for var in data.columns if data[var].dtype!='O' and var!='y' and var not in discrete]\n",
    "\n",
    "# categorical\n",
    "categorical = [var for var in data.columns if data[var].dtype=='O' and var!='y']\n",
    "\n",
    "print(f'There are {len(discrete)} discrete variables')\n",
    "print(f'There are {len(continuous)} continuous variables')\n",
    "print(f'There are {len(categorical)} categorical variables')"
   ]
  },
  {
   "cell_type": "code",
   "execution_count": 421,
   "metadata": {},
   "outputs": [
    {
     "name": "stdout",
     "output_type": "stream",
     "text": [
      "age [50. 32. 77. 53. 40. 47. 38. 41. 33. 22. 39. 34. 31. 48. 75. 71. 25. 27.\n",
      " 58. 29.] \n",
      "\n",
      "job ['admin.' 'management' 'retired' 'self-employed' 'technician' 'services'\n",
      " 'student' nan 'blue-collar' 'entrepreneur' 'unknown' 'unemployed'\n",
      " 'housemaid'] \n",
      "\n",
      "marital ['single' 'divorced' nan 'married'] \n",
      "\n",
      "education ['secondary' 'tertiary' nan 'unknown' 'primary'] \n",
      "\n",
      "default ['no' nan 'yes'] \n",
      "\n",
      "balance [ 2252. 10281.     0.  2152.  1616.   293.  2678.  4004.  1536.   344.\n",
      "  2983.  2138.   666.  -537.  2892.    75.   260.  4984.  3230.   469.] \n",
      "\n",
      "housing ['no' nan 'yes'] \n",
      "\n",
      "loan ['no' nan 'yes'] \n",
      "\n",
      "contact ['cellular' nan 'telephone' 'unknown'] \n",
      "\n",
      "day [30. 22. 25. 13. 28.  1. 17.  9. 18.  3. 10. 21.  7. nan 24. 16. 15.  8.\n",
      " 20. 26.] \n",
      "\n",
      "month ['apr' 'sep' 'feb' 'jul' 'jun' nan 'may' 'dec' 'aug' 'nov' 'oct' 'jan'\n",
      " 'mar'] \n",
      "\n",
      "duration [ 652.  400.  210.   75. 1009.  251.   nan  314.  359.  347.  472.  164.\n",
      "  342. 1503.  407.  479.  226.  509.  161.  165.] \n",
      "\n",
      "campaign [ 2.  1.  3.  7. nan  9.  4.  8. 24.  5.  6. 12. 10. 13. 11. 17. 15. 32.\n",
      " 14. 16.] \n",
      "\n",
      "pdays [ -1.  90. 187.  92. 109.  22. 385.  94. 133. 148. 184. 257. 792. 397.\n",
      "  nan 246. 178.  97.  93.  91.] \n",
      "\n",
      "previous [ 0.  1. nan  3.  2.  4.  7.  5.  6. 17.  9. 12. 10.  8. 55. 13. 20. 29.\n",
      " 11. 30.] \n",
      "\n",
      "poutcome ['unknown' 'success' 'other' 'failure'] \n",
      "\n",
      "y ['yes' 'no'] \n",
      "\n"
     ]
    }
   ],
   "source": [
    "for var in data.columns:\n",
    "    print(var, data[var].unique()[0:20], '\\n')"
   ]
  },
  {
   "cell_type": "code",
   "execution_count": 422,
   "metadata": {},
   "outputs": [
    {
     "data": {
      "text/plain": [
       "age           76\n",
       "balance     4721\n",
       "day           31\n",
       "duration    1438\n",
       "campaign      39\n",
       "pdays        477\n",
       "previous      35\n",
       "dtype: int64"
      ]
     },
     "execution_count": 422,
     "metadata": {},
     "output_type": "execute_result"
    }
   ],
   "source": [
    "data[continuous].nunique()"
   ]
  },
  {
   "cell_type": "code",
   "execution_count": 423,
   "metadata": {},
   "outputs": [
    {
     "data": {
      "text/plain": [
       "job          12\n",
       "marital       3\n",
       "education     4\n",
       "default       2\n",
       "housing       2\n",
       "loan          2\n",
       "contact       3\n",
       "month        12\n",
       "poutcome      4\n",
       "dtype: int64"
      ]
     },
     "execution_count": 423,
     "metadata": {},
     "output_type": "execute_result"
    }
   ],
   "source": [
    "data[categorical].nunique()"
   ]
  },
  {
   "cell_type": "code",
   "execution_count": 424,
   "metadata": {},
   "outputs": [
    {
     "data": {
      "text/plain": [
       "management       3905\n",
       "blue-collar      3437\n",
       "technician       2942\n",
       "admin.           2123\n",
       "services         1556\n",
       "retired          1127\n",
       "self-employed     621\n",
       "unemployed        549\n",
       "student           529\n",
       "entrepreneur      509\n",
       "housemaid         445\n",
       "unknown           107\n",
       "Name: job, dtype: int64"
      ]
     },
     "execution_count": 424,
     "metadata": {},
     "output_type": "execute_result"
    }
   ],
   "source": [
    "data['job'].value_counts()"
   ]
  },
  {
   "cell_type": "code",
   "execution_count": 571,
   "metadata": {},
   "outputs": [
    {
     "data": {
      "text/plain": [
       "1    12951\n",
       "0     5289\n",
       "Name: y, dtype: int64"
      ]
     },
     "execution_count": 571,
     "metadata": {},
     "output_type": "execute_result"
    }
   ],
   "source": [
    "data['y'].value_counts()"
   ]
  },
  {
   "cell_type": "code",
   "execution_count": 574,
   "metadata": {},
   "outputs": [],
   "source": [
    "for i in categorical:\n",
    "    if var != \"y\":\n",
    "        plt.style.use('seaborn-whitegrid')\n",
    "        fig = plt.figure(figsize=(20,4)) \n",
    "        sns.countplot(y=\"i, data=data);"
   ]
  },
  {
   "cell_type": "code",
   "execution_count": 427,
   "metadata": {},
   "outputs": [
    {
     "data": {
      "text/plain": [
       "<seaborn.axisgrid.FacetGrid at 0x2c8b62ac148>"
      ]
     },
     "execution_count": 427,
     "metadata": {},
     "output_type": "execute_result"
    },
    {
     "data": {
      "image/png": "[encoded data removed]",
      "text/plain": [
       "<Figure size 864x432 with 7 Axes>"
      ]
     },
     "metadata": {},
     "output_type": "display_data"
    }
   ],
   "source": [
    "# Checking skewness of other variables via numeric plots\n",
    "nd = pd.melt(data, value_vars = continuous)\n",
    "n1 = sns.FacetGrid (nd, col='variable', col_wrap=4, sharex=False, sharey = False)\n",
    "n1 = n1.map(sns.distplot, 'value')\n",
    "n1"
   ]
  },
  {
   "cell_type": "code",
   "execution_count": 428,
   "metadata": {},
   "outputs": [
    {
     "data": {
      "text/plain": [
       "previous    46.256601\n",
       "balance      8.654383\n",
       "campaign     5.105478\n",
       "duration     2.544773\n",
       "pdays        2.452114\n",
       "age          0.800408\n",
       "day          0.105374\n",
       "dtype: float64"
      ]
     },
     "execution_count": 428,
     "metadata": {},
     "output_type": "execute_result"
    }
   ],
   "source": [
    "data.skew(axis = 0, skipna = True).sort_values(ascending=False)"
   ]
  },
  {
   "cell_type": "code",
   "execution_count": 429,
   "metadata": {},
   "outputs": [
    {
     "data": {
      "text/plain": [
       "previous    3.855592\n",
       "balance     2.267412\n",
       "campaign    1.809186\n",
       "duration    1.265474\n",
       "pdays       1.238987\n",
       "age         0.588014\n",
       "day         0.100184\n",
       "dtype: float64"
      ]
     },
     "execution_count": 429,
     "metadata": {},
     "output_type": "execute_result"
    }
   ],
   "source": [
    "np.log1p(data.skew(axis = 0, skipna = True)).sort_values(ascending=False)"
   ]
  },
  {
   "cell_type": "code",
   "execution_count": 430,
   "metadata": {},
   "outputs": [
    {
     "data": {
      "image/png": "[encoded data removed]",
      "text/plain": [
       "<Figure size 864x864 with 9 Axes>"
      ]
     },
     "metadata": {},
     "output_type": "display_data"
    }
   ],
   "source": [
    "num_column = data.dtypes[data.dtypes != 'object']\n",
    "data[list(num_column.index)].hist(figsize = (12,12));"
   ]
  },
  {
   "cell_type": "code",
   "execution_count": 431,
   "metadata": {},
   "outputs": [
    {
     "data": {
      "image/png": "[encoded data removed]",
      "text/plain": [
       "<Figure size 1440x1440 with 2 Axes>"
      ]
     },
     "metadata": {},
     "output_type": "display_data"
    }
   ],
   "source": [
    "mask = np.zeros_like(data.corr(), dtype=np.bool)\n",
    "f, ax = plt.subplots(figsize=(20,20)) \n",
    "heatmap = sns.heatmap(data.corr(), \n",
    "                      mask = mask,\n",
    "                      square = True,\n",
    "                      linewidths = .5,\n",
    "                      cmap = 'coolwarm',\n",
    "                      cbar_kws = {'shrink': .4, \n",
    "                                'ticks' : [-1, -.5, 0, 0.5, 1]},\n",
    "                      vmin = -1, \n",
    "                      vmax = 1,\n",
    "                      annot = True,\n",
    "                      annot_kws = {\"size\": 12})\n",
    "#add the column names as labels\n",
    "ax.set_yticklabels(data.corr().columns, rotation = 0)\n",
    "ax.set_xticklabels(data.corr().columns)\n",
    "sns.set_style({'xtick.bottom': True}, {'ytick.left': True})\n",
    "plt.tight_layout()"
   ]
  },
  {
   "cell_type": "code",
   "execution_count": 432,
   "metadata": {},
   "outputs": [],
   "source": [
    "# Using Predictive Power to determine relationship bw variables that consider even non numeric data and also determine \n",
    "# non linear relationship between data\n",
    "# https://github.com/8080labs/ppscore"
   ]
  },
  {
   "cell_type": "code",
   "execution_count": 433,
   "metadata": {},
   "outputs": [
    {
     "data": {
      "text/plain": [
       "<matplotlib.axes._subplots.AxesSubplot at 0x2c8b61e08c8>"
      ]
     },
     "execution_count": 433,
     "metadata": {},
     "output_type": "execute_result"
    },
    {
     "data": {
      "image/png": "[encoded data removed]",
      "text/plain": [
       "<Figure size 1440x1440 with 2 Axes>"
      ]
     },
     "metadata": {},
     "output_type": "display_data"
    }
   ],
   "source": [
    "pps.matrix(data)\n",
    "df_matrix = pps.matrix(data)\n",
    "fig = plt.figure(figsize=(20,20)) \n",
    "sns.heatmap(df_matrix, vmin=0, vmax=1, cmap=\"Blues\", linewidths=0.5, annot=True)"
   ]
  },
  {
   "cell_type": "markdown",
   "metadata": {},
   "source": [
    "#### Mapping the target var to 0/1"
   ]
  },
  {
   "cell_type": "code",
   "execution_count": 434,
   "metadata": {},
   "outputs": [
    {
     "data": {
      "text/html": [
       "<div>\n",
       "<style scoped>\n",
       "    .dataframe tbody tr th:only-of-type {\n",
       "        vertical-align: middle;\n",
       "    }\n",
       "\n",
       "    .dataframe tbody tr th {\n",
       "        vertical-align: top;\n",
       "    }\n",
       "\n",
       "    .dataframe thead th {\n",
       "        text-align: right;\n",
       "    }\n",
       "</style>\n",
       "<table border=\"1\" class=\"dataframe\">\n",
       "  <thead>\n",
       "    <tr style=\"text-align: right;\">\n",
       "      <th></th>\n",
       "      <th>age</th>\n",
       "      <th>job</th>\n",
       "      <th>marital</th>\n",
       "      <th>education</th>\n",
       "      <th>default</th>\n",
       "      <th>balance</th>\n",
       "      <th>housing</th>\n",
       "      <th>loan</th>\n",
       "      <th>contact</th>\n",
       "      <th>day</th>\n",
       "      <th>month</th>\n",
       "      <th>duration</th>\n",
       "      <th>campaign</th>\n",
       "      <th>pdays</th>\n",
       "      <th>previous</th>\n",
       "      <th>poutcome</th>\n",
       "      <th>y</th>\n",
       "    </tr>\n",
       "  </thead>\n",
       "  <tbody>\n",
       "    <tr>\n",
       "      <td>0</td>\n",
       "      <td>50.0</td>\n",
       "      <td>admin.</td>\n",
       "      <td>single</td>\n",
       "      <td>secondary</td>\n",
       "      <td>no</td>\n",
       "      <td>2252.0</td>\n",
       "      <td>no</td>\n",
       "      <td>no</td>\n",
       "      <td>cellular</td>\n",
       "      <td>30.0</td>\n",
       "      <td>apr</td>\n",
       "      <td>652.0</td>\n",
       "      <td>2.0</td>\n",
       "      <td>-1.0</td>\n",
       "      <td>0.0</td>\n",
       "      <td>unknown</td>\n",
       "      <td>0</td>\n",
       "    </tr>\n",
       "    <tr>\n",
       "      <td>1</td>\n",
       "      <td>32.0</td>\n",
       "      <td>management</td>\n",
       "      <td>single</td>\n",
       "      <td>tertiary</td>\n",
       "      <td>no</td>\n",
       "      <td>10281.0</td>\n",
       "      <td>no</td>\n",
       "      <td>no</td>\n",
       "      <td>cellular</td>\n",
       "      <td>22.0</td>\n",
       "      <td>apr</td>\n",
       "      <td>400.0</td>\n",
       "      <td>1.0</td>\n",
       "      <td>-1.0</td>\n",
       "      <td>0.0</td>\n",
       "      <td>unknown</td>\n",
       "      <td>0</td>\n",
       "    </tr>\n",
       "    <tr>\n",
       "      <td>2</td>\n",
       "      <td>77.0</td>\n",
       "      <td>retired</td>\n",
       "      <td>divorced</td>\n",
       "      <td>secondary</td>\n",
       "      <td>no</td>\n",
       "      <td>0.0</td>\n",
       "      <td>NaN</td>\n",
       "      <td>no</td>\n",
       "      <td>NaN</td>\n",
       "      <td>25.0</td>\n",
       "      <td>sep</td>\n",
       "      <td>210.0</td>\n",
       "      <td>1.0</td>\n",
       "      <td>-1.0</td>\n",
       "      <td>0.0</td>\n",
       "      <td>unknown</td>\n",
       "      <td>0</td>\n",
       "    </tr>\n",
       "    <tr>\n",
       "      <td>3</td>\n",
       "      <td>53.0</td>\n",
       "      <td>management</td>\n",
       "      <td>NaN</td>\n",
       "      <td>NaN</td>\n",
       "      <td>no</td>\n",
       "      <td>2152.0</td>\n",
       "      <td>no</td>\n",
       "      <td>no</td>\n",
       "      <td>cellular</td>\n",
       "      <td>13.0</td>\n",
       "      <td>feb</td>\n",
       "      <td>75.0</td>\n",
       "      <td>3.0</td>\n",
       "      <td>-1.0</td>\n",
       "      <td>0.0</td>\n",
       "      <td>unknown</td>\n",
       "      <td>0</td>\n",
       "    </tr>\n",
       "  </tbody>\n",
       "</table>\n",
       "</div>"
      ],
      "text/plain": [
       "    age         job   marital  education default  balance housing loan  \\\n",
       "0  50.0      admin.    single  secondary      no   2252.0      no   no   \n",
       "1  32.0  management    single   tertiary      no  10281.0      no   no   \n",
       "2  77.0     retired  divorced  secondary      no      0.0     NaN   no   \n",
       "3  53.0  management       NaN        NaN      no   2152.0      no   no   \n",
       "\n",
       "    contact   day month  duration  campaign  pdays  previous poutcome  y  \n",
       "0  cellular  30.0   apr     652.0       2.0   -1.0       0.0  unknown  0  \n",
       "1  cellular  22.0   apr     400.0       1.0   -1.0       0.0  unknown  0  \n",
       "2       NaN  25.0   sep     210.0       1.0   -1.0       0.0  unknown  0  \n",
       "3  cellular  13.0   feb      75.0       3.0   -1.0       0.0  unknown  0  "
      ]
     },
     "execution_count": 434,
     "metadata": {},
     "output_type": "execute_result"
    }
   ],
   "source": [
    "data['y']=data['y'].map({'yes': 0, 'no': 1})\n",
    "data.head(4)"
   ]
  },
  {
   "cell_type": "code",
   "execution_count": 485,
   "metadata": {},
   "outputs": [],
   "source": [
    "# Adding constant value to all cells of particular columns to accomodate transformers"
   ]
  },
  {
   "cell_type": "code",
   "execution_count": 440,
   "metadata": {},
   "outputs": [],
   "source": [
    "data['balance'] = data['balance']+8020"
   ]
  },
  {
   "cell_type": "code",
   "execution_count": 441,
   "metadata": {},
   "outputs": [
    {
     "data": {
      "text/plain": [
       "110147.0"
      ]
     },
     "execution_count": 441,
     "metadata": {},
     "output_type": "execute_result"
    }
   ],
   "source": [
    "max(data[\"balance\"])"
   ]
  },
  {
   "cell_type": "code",
   "execution_count": 458,
   "metadata": {},
   "outputs": [
    {
     "data": {
      "text/plain": [
       "1.0"
      ]
     },
     "execution_count": 458,
     "metadata": {},
     "output_type": "execute_result"
    }
   ],
   "source": [
    "min(data['balance'])"
   ]
  },
  {
   "cell_type": "code",
   "execution_count": 443,
   "metadata": {},
   "outputs": [
    {
     "data": {
      "text/plain": [
       "['age', 'balance', 'day', 'duration', 'campaign', 'pdays', 'previous']"
      ]
     },
     "execution_count": 443,
     "metadata": {},
     "output_type": "execute_result"
    }
   ],
   "source": [
    "continuous"
   ]
  },
  {
   "cell_type": "code",
   "execution_count": 452,
   "metadata": {},
   "outputs": [],
   "source": [
    "data['pdays'] = data['pdays']+2"
   ]
  },
  {
   "cell_type": "code",
   "execution_count": 459,
   "metadata": {},
   "outputs": [
    {
     "data": {
      "text/plain": [
       "1.0"
      ]
     },
     "execution_count": 459,
     "metadata": {},
     "output_type": "execute_result"
    }
   ],
   "source": [
    "min(data[\"pdays\"])"
   ]
  },
  {
   "cell_type": "code",
   "execution_count": 470,
   "metadata": {},
   "outputs": [],
   "source": [
    "data['previous'] = data['previous']+0.0001"
   ]
  },
  {
   "cell_type": "code",
   "execution_count": 472,
   "metadata": {},
   "outputs": [
    {
     "data": {
      "text/plain": [
       "0.0001"
      ]
     },
     "execution_count": 472,
     "metadata": {},
     "output_type": "execute_result"
    }
   ],
   "source": [
    "min(data[\"previous\"])"
   ]
  },
  {
   "cell_type": "markdown",
   "metadata": {},
   "source": [
    "## Splitting Data"
   ]
  },
  {
   "cell_type": "code",
   "execution_count": 577,
   "metadata": {},
   "outputs": [],
   "source": [
    "from sklearn.model_selection import train_test_split\n",
    "X_trainval, X_test, y_trainval, y_test = train_test_split(data.drop('y',axis=1), data.y , test_size=0.2, random_state=0)\n",
    "X_train, X_val, y_train, y_val = train_test_split(X_trainval, y_trainval, test_size=0.25, random_state=0)"
   ]
  },
  {
   "cell_type": "markdown",
   "metadata": {},
   "source": [
    "## Data Preprocessing"
   ]
  },
  {
   "cell_type": "code",
   "execution_count": 578,
   "metadata": {},
   "outputs": [],
   "source": [
    "# import relevant modules for feature engineering\n",
    "from sklearn.pipeline import Pipeline\n",
    "from sklearn.preprocessing import StandardScaler\n",
    "from sklearn.preprocessing import RobustScaler\n",
    "from feature_engine import missing_data_imputers as mdi\n",
    "from feature_engine import categorical_encoders as ce\n",
    "from feature_engine.categorical_encoders import OneHotCategoricalEncoder\n",
    "from feature_engine.categorical_encoders import OrdinalCategoricalEncoder\n",
    "from feature_engine.variable_transformers import YeoJohnsonTransformer\n",
    "from feature_engine.variable_transformers import LogTransformer\n",
    "from feature_engine.variable_transformers import BoxCoxTransformer\n",
    "from feature_engine.variable_transformers import PowerTransformer\n",
    "from feature_engine.discretisers import DecisionTreeDiscretiser\n",
    "from feature_engine.discretisers import EqualFrequencyDiscretiser\n",
    "from feature_engine.missing_data_imputers import RandomSampleImputer"
   ]
  },
  {
   "cell_type": "code",
   "execution_count": 579,
   "metadata": {},
   "outputs": [],
   "source": [
    "prep_pipe = Pipeline([\n",
    "    \n",
    "    # Imputers\n",
    "    ('rand_imputer', RandomSampleImputer(random_state=40, \n",
    "                                         seed = 'general', \n",
    "                                         variables = ['job', 'marital', 'education', 'housing','contact', 'day', 'month'])),\n",
    "    \n",
    "    ('median_imputer', mdi.MeanMedianImputer\n",
    "                         (imputation_method='median',variables=['age','balance','duration','campaign','pdays','previous'])),\n",
    "    \n",
    "    ('mode_imputer', mdi.FrequentCategoryImputer(variables=['loan','default'])),\n",
    "    \n",
    "    # Encoder\n",
    "    \n",
    "    # ('categorical_encoder', OneHotCategoricalEncoder(top_categories = None, variables = categorical, drop_last = True)),\n",
    "      ('ordinal_enc', OrdinalCategoricalEncoder(variables=categorical,encoding_method='arbitrary')),  \n",
    "    \n",
    "    # Transformers\n",
    "    \n",
    "    # ('lt', LogTransformer(variables = continuous)),\n",
    "    \n",
    "    # Discretisers\n",
    "    ('desc', EqualFrequencyDiscretiser(q=50, variables = continuous)),\n",
    "    # Scaling\n",
    "    (\"standardscaler\" , StandardScaler(with_mean=True, with_std=False)),\n",
    "    (\"robustscaler\" , RobustScaler(with_centering=False, with_scaling=True, quantile_range=(0, 100))) \n",
    "])"
   ]
  },
  {
   "cell_type": "code",
   "execution_count": 580,
   "metadata": {},
   "outputs": [
    {
     "data": {
      "text/plain": [
       "Pipeline(memory=None,\n",
       "         steps=[('rand_imputer',\n",
       "                 RandomSampleImputer(random_state=40, seed='general',\n",
       "                                     seeding_method='add',\n",
       "                                     variables=['job', 'marital', 'education',\n",
       "                                                'housing', 'contact', 'day',\n",
       "                                                'month'])),\n",
       "                ('median_imputer',\n",
       "                 MeanMedianImputer(imputation_method='median',\n",
       "                                   variables=['age', 'balance', 'duration',\n",
       "                                              'campaign', 'pdays',\n",
       "                                              'previous'])),\n",
       "                ('mode_imputer',\n",
       "                 Frequent...\n",
       "                                                      'contact', 'month',\n",
       "                                                      'poutcome'])),\n",
       "                ('desc',\n",
       "                 EqualFrequencyDiscretiser(q=50, return_object=False,\n",
       "                                           variables=['age', 'balance', 'day',\n",
       "                                                      'duration', 'campaign',\n",
       "                                                      'pdays', 'previous'])),\n",
       "                ('standardscaler',\n",
       "                 StandardScaler(copy=True, with_mean=True, with_std=False)),\n",
       "                ('robustscaler',\n",
       "                 RobustScaler(copy=True, quantile_range=(0, 100),\n",
       "                              with_centering=False, with_scaling=True))],\n",
       "         verbose=False)"
      ]
     },
     "execution_count": 580,
     "metadata": {},
     "output_type": "execute_result"
    }
   ],
   "source": [
    "prep_pipe.fit(X_train)"
   ]
  },
  {
   "cell_type": "code",
   "execution_count": 581,
   "metadata": {},
   "outputs": [],
   "source": [
    "X_train=prep_pipe.transform(X_train)\n",
    "X_test=prep_pipe.transform(X_test)\n",
    "X_val=prep_pipe.transform(X_val)"
   ]
  },
  {
   "cell_type": "markdown",
   "metadata": {},
   "source": [
    "## Basic Algorithms"
   ]
  },
  {
   "cell_type": "code",
   "execution_count": 584,
   "metadata": {},
   "outputs": [],
   "source": [
    "from sklearn.model_selection import GridSearchCV"
   ]
  },
  {
   "cell_type": "markdown",
   "metadata": {},
   "source": [
    "#### Dummy Classifier"
   ]
  },
  {
   "cell_type": "code",
   "execution_count": 585,
   "metadata": {},
   "outputs": [
    {
     "name": "stdout",
     "output_type": "stream",
     "text": [
      "Mean Cross-validation scores: 0.70411855072928\n",
      "\n",
      "Naive Algorithm Validation Performance:  0.5910087719298246\n",
      "Naive Algorithm Test Performance:  0.5951206140350878\n"
     ]
    }
   ],
   "source": [
    "# Naive Algorithm \n",
    "from sklearn.dummy import DummyClassifier\n",
    "from sklearn.model_selection import cross_val_score\n",
    "from sklearn.metrics import make_scorer\n",
    "model_dummy = DummyClassifier(strategy='stratified',random_state=42)\n",
    "model_dummy.fit(X_train,y_train)\n",
    "cv_scores = cross_val_score(model_dummy, X_train, y_train,scoring= f2score)\n",
    "\n",
    "# Mean Cross validation Score\n",
    "print(\"Mean Cross-validation scores: {}\".format(cv_scores.mean()))\n",
    "print()\n",
    "# Check test data set performance\n",
    "print(\"Naive Algorithm Validation Performance: \", model_dummy.score(X_val,y_val))\n",
    "print(\"Naive Algorithm Test Performance: \", model_dummy.score(X_test,y_test))"
   ]
  },
  {
   "cell_type": "markdown",
   "metadata": {},
   "source": [
    "#### Logistic Regression"
   ]
  },
  {
   "cell_type": "code",
   "execution_count": 596,
   "metadata": {},
   "outputs": [
    {
     "name": "stdout",
     "output_type": "stream",
     "text": [
      "Decision Tree parameters:  {'C': 0.001, 'penalty': 'l2', 'solver': 'saga'}\n",
      "\n",
      "Mean Cross-validation scores: 0.8115896798596254\n",
      "\n",
      "Logistic Test Performance:  0.926687464549064\n",
      "Logistic Validation Performance:  0.9249358426005133\n"
     ]
    }
   ],
   "source": [
    "#logistic regression\n",
    "from sklearn.linear_model import LogisticRegression\n",
    "from sklearn.model_selection import cross_val_score\n",
    "\n",
    "logreg=LogisticRegression(max_iter=1000, random_state=42)\n",
    "\n",
    "logreg_param= {'C': [0.001,0.01,0.1,1,10,100], 'penalty': ['l2'], 'solver':['saga', 'newton-cg', 'lbfgs', 'liblinear']}\n",
    "logreg_grid = GridSearchCV(logreg, logreg_param,cv=5, return_train_score=True, scoring= f2score)\n",
    "logreg_grid.fit(X_train,y_train)\n",
    "\n",
    "#find best parameters\n",
    "print('Decision Tree parameters: ', logreg_grid.best_params_)\n",
    "print()\n",
    "\n",
    "# Mean Cross validation Score\n",
    "print(\"Mean Cross-validation scores: {}\".format(cv_scores.mean()))\n",
    "print()\n",
    "\n",
    "\n",
    "# Check test data set performance\n",
    "print(\"Logistic Test Performance: \", logreg_grid.score(X_test,y_test))\n",
    "print(\"Logistic Validation Performance: \", logreg_grid.score(X_val,y_val))"
   ]
  },
  {
   "cell_type": "markdown",
   "metadata": {},
   "source": [
    "#### KNN"
   ]
  },
  {
   "cell_type": "code",
   "execution_count": 604,
   "metadata": {},
   "outputs": [
    {
     "name": "stdout",
     "output_type": "stream",
     "text": [
      "Best Mean Cross-validation score: 0.87\n",
      "\n",
      "KNN Best parameters:  {'algorithm': 'auto', 'n_neighbors': 23, 'weights': 'uniform'}\n",
      "\n",
      "KNN Test Performance:  0.8670391061452515\n",
      "KNN Val Performance:  0.872873097968668\n",
      "\n"
     ]
    }
   ],
   "source": [
    "# Train a KNN model, report the coefficients, the best parameters, and model performance \n",
    "# hint: find the optimal k\n",
    "\n",
    "from sklearn.model_selection import GridSearchCV\n",
    "from sklearn.neighbors import KNeighborsClassifier\n",
    "\n",
    "knn = KNeighborsClassifier()\n",
    "\n",
    "# define a list of parameters\n",
    "\n",
    "param_knn = {'n_neighbors': range(5,25), 'algorithm':['auto', 'ball_tree', 'kd_tree', 'brute'],\n",
    "            'weights':['uniform','distance']}\n",
    "\n",
    "#apply grid search\n",
    "grid_knn = GridSearchCV(knn, param_knn, cv=5, return_train_score=True, scoring= f2score)\n",
    "grid_knn.fit(X_train, y_train)\n",
    "\n",
    "# Mean Cross Validation Score\n",
    "print(\"Best Mean Cross-validation score: {:.2f}\".format(grid_knn.best_score_))\n",
    "print()\n",
    "\n",
    "#find best parameters\n",
    "print('KNN Best parameters: ',grid_knn.best_params_)\n",
    "print()\n",
    "\n",
    "#Check test data set performance\n",
    "print(\"KNN Test Performance: \",grid_knn.score(X_test,y_test))\n",
    "print(\"KNN Val Performance: \",grid_knn.score(X_val,y_val))\n",
    "print()"
   ]
  },
  {
   "cell_type": "markdown",
   "metadata": {},
   "source": [
    "#### Decision Tree"
   ]
  },
  {
   "cell_type": "code",
   "execution_count": 603,
   "metadata": {},
   "outputs": [
    {
     "name": "stdout",
     "output_type": "stream",
     "text": [
      "Best Mean Cross-validation score: 0.92\n",
      "\n",
      "Decision Tree Best parameters:  {'criterion': 'gini', 'max_depth': 1, 'max_leaf_nodes': 2, 'min_samples_split': 2, 'splitter': 'random'}\n",
      "\n",
      "Decision Tree Test Performance:  0.926687464549064\n",
      "Decision Tree Val Performance:  0.9249358426005133\n",
      "\n"
     ]
    }
   ],
   "source": [
    "from sklearn.tree import DecisionTreeClassifier\n",
    "dtree = DecisionTreeClassifier(random_state=0)\n",
    "\n",
    "#define a list of parameters\n",
    "param_dtree = {\"max_depth\": range(1,10),\n",
    "           \"min_samples_split\": range(2,10),\n",
    "           \"max_leaf_nodes\": range(2,6),\n",
    "           \"criterion\":['gini'],\n",
    "           \"splitter\":['best','random']}\n",
    "\n",
    "#apply grid search\n",
    "grid_dtree = GridSearchCV(dtree, param_dtree, cv=5, return_train_score = True, scoring = f2score)\n",
    "grid_dtree.fit(X_train, y_train)\n",
    "\n",
    "# Mean Cross Validation Score\n",
    "print(\"Best Mean Cross-validation score: {:.2f}\".format(grid_dtree.best_score_))\n",
    "print()\n",
    "\n",
    "#find best parameters\n",
    "print('Decision Tree Best parameters: ',grid_dtree.best_params_)\n",
    "print()\n",
    "\n",
    "#Check test data set performance\n",
    "print(\"Decision Tree Test Performance: \",grid_dtree.score(X_test,y_test))\n",
    "print(\"Decision Tree Val Performance: \",grid_dtree.score(X_val,y_val))\n",
    "print()"
   ]
  },
  {
   "cell_type": "markdown",
   "metadata": {},
   "source": [
    "#### LinearSVC"
   ]
  },
  {
   "cell_type": "code",
   "execution_count": 602,
   "metadata": {},
   "outputs": [
    {
     "name": "stdout",
     "output_type": "stream",
     "text": [
      "Best Mean Cross-validation score: 0.92\n",
      "\n",
      "Decision Tree Best parameters:  {'C': 0.001, 'loss': 'hinge', 'penalty': 'l2'}\n",
      "\n",
      "Linear SVC Test Performance:  0.926687464549064\n",
      "Linear SVC Val Performance:  0.9249358426005133\n",
      "\n"
     ]
    }
   ],
   "source": [
    "from sklearn.svm import LinearSVC\n",
    "lsvc = LinearSVC(random_state=42)\n",
    "param = [{'penalty':['l2'], 'C': [0.001, 0.01, 0.1], 'loss':['hinge','squared_hinge']}]\n",
    "\n",
    "svc_grid = GridSearchCV(lsvc, param, cv=5,return_train_score=True,scoring= f2score)\n",
    "svc_grid.fit(X_train, y_train)\n",
    "\n",
    "# Mean Cross Validation Score\n",
    "print(\"Best Mean Cross-validation score: {:.2f}\".format(svc_grid.best_score_))\n",
    "print()\n",
    "\n",
    "#find best parameters\n",
    "print('Decision Tree Best parameters: ',svc_grid.best_params_)\n",
    "print()\n",
    "\n",
    "#Check test data set performance\n",
    "print(\"Linear SVC Test Performance: \",svc_grid.score(X_test,y_test))\n",
    "print(\"Linear SVC Val Performance: \",svc_grid.score(X_val,y_val))\n",
    "print()"
   ]
  },
  {
   "cell_type": "markdown",
   "metadata": {},
   "source": [
    "#### Kernel SVC"
   ]
  },
  {
   "cell_type": "code",
   "execution_count": 605,
   "metadata": {},
   "outputs": [
    {
     "name": "stdout",
     "output_type": "stream",
     "text": [
      "Best Mean Cross-validation score: 0.92\n",
      "\n",
      "Support Vector Classifier Best parameters:  {'C': 0.001, 'kernel': 'rbf'}\n",
      "\n",
      "Support Vector Classifier Test Performance:  0.926687464549064\n",
      "Support Vector Classifier Val Performance:  0.9249358426005133\n",
      "\n"
     ]
    }
   ],
   "source": [
    "from sklearn.svm import SVC\n",
    "svc = SVC(random_state=42)\n",
    "\n",
    "param_grid = {'kernel': ['rbf'],\n",
    "               'C': [0.001, 0.01, 0.1, 1, 10, 100]}\n",
    "\n",
    "svm_grid = GridSearchCV(svc, param_grid, cv=5,return_train_score=True,scoring=f2score)\n",
    "svm_grid.fit(X_train, y_train)\n",
    "\n",
    "# Mean Cross Validation Score\n",
    "print(\"Best Mean Cross-validation score: {:.2f}\".format(svm_grid.best_score_))\n",
    "print()\n",
    "\n",
    "#find best parameters\n",
    "print('Support Vector Classifier Best parameters: ',svm_grid.best_params_)\n",
    "print()\n",
    "\n",
    "#Check test data set performance\n",
    "print(\"Support Vector Classifier Test Performance: \",svm_grid.score(X_test,y_test))\n",
    "print(\"Support Vector Classifier Val Performance: \",svm_grid.score(X_val,y_val))\n",
    "print()"
   ]
  },
  {
   "cell_type": "markdown",
   "metadata": {},
   "source": [
    "## Ensemble Models"
   ]
  },
  {
   "cell_type": "code",
   "execution_count": 611,
   "metadata": {},
   "outputs": [],
   "source": [
    "from sklearn.ensemble import BaggingClassifier\n",
    "from sklearn.tree import DecisionTreeClassifier\n",
    "from sklearn.model_selection import GridSearchCV"
   ]
  },
  {
   "cell_type": "markdown",
   "metadata": {},
   "source": [
    "#### Bagging with DTree"
   ]
  },
  {
   "cell_type": "code",
   "execution_count": 612,
   "metadata": {},
   "outputs": [
    {
     "name": "stdout",
     "output_type": "stream",
     "text": [
      "Best Params: {'base_estimator__max_depth': 1, 'max_samples': 1, 'n_estimators': 10}\n",
      "\n",
      "Best Mean Cross Validation Score is 0.9236018193980904\n",
      "\n",
      "Test score is 0.926687464549064\n",
      "Train score is 0.9249358426005133\n"
     ]
    }
   ],
   "source": [
    "bag_dtree1 = BaggingClassifier(base_estimator=DecisionTreeClassifier(), bootstrap=True, random_state=0, oob_score=False)\n",
    "\n",
    "bag_dtree1_param = {\n",
    "                 'base_estimator__max_depth': range(1,10),\n",
    "                 'max_samples':  [0.8,1],\n",
    "                 'n_estimators': [10,25,100]}\n",
    "\n",
    "bag_dtree1_grid = GridSearchCV(bag_dtree1, bag_dtree1_param,cv=5, return_train_score=True, scoring= f2score)\n",
    "bag_dtree1_grid.fit(X_train,y_train)\n",
    "print(f'Best Params: {bag_dtree1_grid.best_params_}')\n",
    "print()\n",
    "print(f'Best Mean Cross Validation Score is {bag_dtree1_grid.best_score_}')\n",
    "print()\n",
    "print(f'Test score is {bag_dtree1_grid.score(X_test,y_test)}')\n",
    "print(f'Train score is {bag_dtree1_grid.score(X_val,y_val)}')"
   ]
  },
  {
   "cell_type": "markdown",
   "metadata": {},
   "source": [
    "#### Random Forest"
   ]
  },
  {
   "cell_type": "code",
   "execution_count": 620,
   "metadata": {},
   "outputs": [
    {
     "name": "stdout",
     "output_type": "stream",
     "text": [
      "Best Params: {'criterion': 'gini', 'max_depth': 2, 'max_features': 'auto', 'min_samples_leaf': 1, 'min_samples_split': 2, 'n_estimators': 500}\n",
      "\n",
      "Best Mean Cross Validation Score is 0.9217341789027842\n",
      "\n",
      "Test score is 0.9239207864368144\n",
      "Train score is 0.923683267646005\n"
     ]
    }
   ],
   "source": [
    "from sklearn.ensemble import RandomForestClassifier\n",
    "rfc =RandomForestClassifier(random_state=42)\n",
    "rfc_param = { \n",
    "    'n_estimators': [200, 500],\n",
    "    'max_features': ['auto'],\n",
    "    'max_depth' : [2,4,6,8,9],\n",
    "    'criterion' :['gini', 'entropy'],\n",
    "    'min_samples_split':[2,3,4,6,8],\n",
    "    'min_samples_leaf':[1,2,3]\n",
    "}\n",
    "\n",
    "rfc_grid = GridSearchCV(rfc, rfc_param,cv=5, return_train_score=True,scoring = f2score)\n",
    "rfc_grid.fit(X_train,y_train)\n",
    "\n",
    "print(f'Best Params: {rfc_grid.best_params_}')\n",
    "print()\n",
    "print(f'Best Mean Cross Validation Score is {rfc_grid.best_score_}')\n",
    "print()\n",
    "print(f'Test score is {rfc_grid.score(X_test,y_test)}')\n",
    "print(f'Train score is {rfc_grid.score(X_val,y_val)}')"
   ]
  },
  {
   "cell_type": "markdown",
   "metadata": {},
   "source": [
    "#### Extra Trees Classifier"
   ]
  },
  {
   "cell_type": "code",
   "execution_count": 621,
   "metadata": {},
   "outputs": [
    {
     "name": "stdout",
     "output_type": "stream",
     "text": [
      "Best Params: {'criterion': 'gini', 'max_depth': 2, 'max_features': 'auto', 'min_samples_leaf': 1, 'min_samples_split': 2, 'n_estimators': 200}\n",
      "\n",
      "Best Mean Cross Validation Score is 0.9236018193980904\n",
      "\n",
      "Test score is 0.926687464549064\n",
      "Train score is 0.9249358426005133\n"
     ]
    }
   ],
   "source": [
    "from  sklearn.ensemble import ExtraTreesClassifier\n",
    "etc= ExtraTreesClassifier(random_state=42)\n",
    "etc_param = { \n",
    "    'n_estimators': [200,300,500],\n",
    "    'max_features': ['auto'],\n",
    "    'max_depth' : [2,3,4,6],\n",
    "    'criterion' :['gini', 'entropy'],\n",
    "    'min_samples_split':[2,3,4],\n",
    "    'min_samples_leaf':[1,2]\n",
    "}\n",
    "etc_grid = GridSearchCV(etc, etc_param,cv=5, return_train_score=True, scoring = f2score)\n",
    "etc_grid.fit(X_train,y_train)\n",
    "\n",
    "print(f'Best Params: {etc_grid.best_params_}')\n",
    "print()\n",
    "print(f'Best Mean Cross Validation Score is {etc_grid.best_score_}')\n",
    "print()\n",
    "print(f'Test score is {etc_grid.score(X_test,y_test)}')\n",
    "print(f'Train score is {etc_grid.score(X_val,y_val)}')"
   ]
  },
  {
   "cell_type": "markdown",
   "metadata": {},
   "source": [
    "#### Gradient Boosting"
   ]
  },
  {
   "cell_type": "code",
   "execution_count": 622,
   "metadata": {},
   "outputs": [
    {
     "name": "stdout",
     "output_type": "stream",
     "text": [
      "Best Params: {'learning_rate': 2, 'max_depth': 3, 'min_samples_leaf': 1, 'min_samples_split': 2, 'n_estimators': 100, 'subsample': 0.6}\n",
      "\n",
      "Best Mean Cross Validation Score is 0.9034488808308238\n",
      "\n",
      "Test score is 0.9054498641109999\n",
      "Train score is 0.9022583429229\n"
     ]
    }
   ],
   "source": [
    "from  sklearn.ensemble import GradientBoostingClassifier\n",
    "gbc= GradientBoostingClassifier(random_state=42)\n",
    "gbc_param = {\n",
    "              'min_samples_split':[2,3],\n",
    "              'subsample':[0.6,0.8,1],\n",
    "              'min_samples_leaf':[1,2],\n",
    "              'max_depth' : [2,3,7],\n",
    "#               'max_features':['auto'],\n",
    "              'n_estimators' : [100,150],\n",
    "              'learning_rate' : [0.5,1.0,2]\n",
    "             }\n",
    "\n",
    "gbc_grid = GridSearchCV(gbc, gbc_param,cv=5, return_train_score=True, scoring = f2score)\n",
    "gbc_grid.fit(X_train,y_train)\n",
    "\n",
    "print(f'Best Params: {gbc_grid.best_params_}')\n",
    "print()\n",
    "print(f'Best Mean Cross Validation Score is {gbc_grid.best_score_}')\n",
    "print()\n",
    "print(f'Test score is {gbc_grid.score(X_test,y_test)}')\n",
    "print(f'Train score is {gbc_grid.score(X_val,y_val)}')"
   ]
  },
  {
   "cell_type": "markdown",
   "metadata": {},
   "source": [
    "#### XGBoost"
   ]
  },
  {
   "cell_type": "code",
   "execution_count": 623,
   "metadata": {},
   "outputs": [
    {
     "name": "stdout",
     "output_type": "stream",
     "text": [
      "Best Params: {'alpha': 0.1, 'colsample_bytree': 0.6, 'gamma': 0.5, 'lambda': 0.1, 'learning_rate': 2, 'max_depth': 2, 'min_child_weight': 1, 'n_estimators': 150, 'subsample': 0.8}\n",
      "\n",
      "Best Mean Cross Validation Score is 0.9236018193980904\n",
      "\n",
      "Test score is 0.926687464549064\n",
      "Train score is 0.9249358426005133\n"
     ]
    }
   ],
   "source": [
    "from xgboost import XGBClassifier\n",
    "from  xgboost import XGBClassifier\n",
    "xgbc= XGBClassifier(random_state=42,early_stopping_rounds=2,objective= 'binary:logistic')\n",
    "xgbc_param = {\n",
    "              'max_depth' : [2,5,7],\n",
    "              'n_estimators' : [100,150],\n",
    "              'learning_rate' : [0.5,1.0,2],\n",
    "              'gamma' : [0.5,1.0,2],\n",
    "              'min_child_weight' : [1,2],\n",
    "              'subsample':[0.8,1],\n",
    "              'colsample_bytree':[0.6,0.8],\n",
    "              'lambda':[0.1,0.5,1],\n",
    "              'alpha':[0.1,0.5,1]\n",
    "             }\n",
    "xgbc_grid = GridSearchCV(xgbc, xgbc_param,cv=5, return_train_score=True, scoring = f2score)\n",
    "xgbc_grid.fit(X_train,y_train)\n",
    "\n",
    "print(f'Best Params: {xgbc_grid.best_params_}')\n",
    "print()\n",
    "print(f'Best Mean Cross Validation Score is {xgbc_grid.best_score_}')\n",
    "print()\n",
    "print(f'Test score is {xgbc_grid.score(X_test,y_test)}')\n",
    "print(f'Train score is {xgbc_grid.score(X_val,y_val)}')"
   ]
  },
  {
   "cell_type": "markdown",
   "metadata": {},
   "source": [
    "## Summary"
   ]
  },
  {
   "cell_type": "code",
   "execution_count": 627,
   "metadata": {},
   "outputs": [],
   "source": [
    "classifiers={'knn':grid_knn,\n",
    "             'logreg':logreg_grid,\n",
    "             'lsvc':svc_grid,\n",
    "             'ksvc':svm_grid,\n",
    "             'dtree':grid_dtree,\n",
    "             'bag_dtree1':bag_dtree1_grid,\n",
    "             'rfc': rfc_grid,\n",
    "             'etc': etc_grid,\n",
    "             'gbc': gbc_grid,\n",
    "             'xgbc': xgbc_grid}"
   ]
  },
  {
   "cell_type": "code",
   "execution_count": 628,
   "metadata": {},
   "outputs": [
    {
     "data": {
      "text/plain": [
       "dict_keys(['knn', 'logreg', 'lsvc', 'ksvc', 'dtree', 'bag_dtree1', 'rfc', 'etc', 'gbc', 'xgbc'])"
      ]
     },
     "execution_count": 628,
     "metadata": {},
     "output_type": "execute_result"
    }
   ],
   "source": [
    "classifiers.keys()"
   ]
  },
  {
   "cell_type": "code",
   "execution_count": 629,
   "metadata": {},
   "outputs": [],
   "source": [
    "results_mean_std = []\n",
    "for  key, value in classifiers.items():\n",
    "    mean = value.cv_results_['mean_test_score'][value.best_index_]\n",
    "    std=value.cv_results_['std_test_score'][value.best_index_]\n",
    "     \n",
    "    results_mean_std.append({\n",
    "        \"model\": key,\n",
    "        \"mean\": mean,\n",
    "        \"std\": std\n",
    "    })"
   ]
  },
  {
   "cell_type": "code",
   "execution_count": 630,
   "metadata": {},
   "outputs": [],
   "source": [
    "# Create a Pandas DataFrame with the mean+std results\n",
    "accuracy_df = pd.DataFrame(results_mean_std, columns=['model', 'mean', 'std'])"
   ]
  },
  {
   "cell_type": "code",
   "execution_count": 631,
   "metadata": {},
   "outputs": [
    {
     "data": {
      "text/html": [
       "<div>\n",
       "<style scoped>\n",
       "    .dataframe tbody tr th:only-of-type {\n",
       "        vertical-align: middle;\n",
       "    }\n",
       "\n",
       "    .dataframe tbody tr th {\n",
       "        vertical-align: top;\n",
       "    }\n",
       "\n",
       "    .dataframe thead th {\n",
       "        text-align: right;\n",
       "    }\n",
       "</style>\n",
       "<table border=\"1\" class=\"dataframe\">\n",
       "  <thead>\n",
       "    <tr style=\"text-align: right;\">\n",
       "      <th></th>\n",
       "      <th>model</th>\n",
       "      <th>mean</th>\n",
       "      <th>std</th>\n",
       "    </tr>\n",
       "  </thead>\n",
       "  <tbody>\n",
       "    <tr>\n",
       "      <td>1</td>\n",
       "      <td>logreg</td>\n",
       "      <td>0.923602</td>\n",
       "      <td>0.000071</td>\n",
       "    </tr>\n",
       "    <tr>\n",
       "      <td>2</td>\n",
       "      <td>lsvc</td>\n",
       "      <td>0.923602</td>\n",
       "      <td>0.000071</td>\n",
       "    </tr>\n",
       "    <tr>\n",
       "      <td>3</td>\n",
       "      <td>ksvc</td>\n",
       "      <td>0.923602</td>\n",
       "      <td>0.000071</td>\n",
       "    </tr>\n",
       "    <tr>\n",
       "      <td>4</td>\n",
       "      <td>dtree</td>\n",
       "      <td>0.923602</td>\n",
       "      <td>0.000071</td>\n",
       "    </tr>\n",
       "    <tr>\n",
       "      <td>5</td>\n",
       "      <td>bag_dtree1</td>\n",
       "      <td>0.923602</td>\n",
       "      <td>0.000071</td>\n",
       "    </tr>\n",
       "    <tr>\n",
       "      <td>7</td>\n",
       "      <td>etc</td>\n",
       "      <td>0.923602</td>\n",
       "      <td>0.000071</td>\n",
       "    </tr>\n",
       "    <tr>\n",
       "      <td>9</td>\n",
       "      <td>xgbc</td>\n",
       "      <td>0.923602</td>\n",
       "      <td>0.000071</td>\n",
       "    </tr>\n",
       "    <tr>\n",
       "      <td>6</td>\n",
       "      <td>rfc</td>\n",
       "      <td>0.921734</td>\n",
       "      <td>0.000717</td>\n",
       "    </tr>\n",
       "    <tr>\n",
       "      <td>8</td>\n",
       "      <td>gbc</td>\n",
       "      <td>0.903449</td>\n",
       "      <td>0.028215</td>\n",
       "    </tr>\n",
       "    <tr>\n",
       "      <td>0</td>\n",
       "      <td>knn</td>\n",
       "      <td>0.873481</td>\n",
       "      <td>0.005070</td>\n",
       "    </tr>\n",
       "  </tbody>\n",
       "</table>\n",
       "</div>"
      ],
      "text/plain": [
       "        model      mean       std\n",
       "1      logreg  0.923602  0.000071\n",
       "2        lsvc  0.923602  0.000071\n",
       "3        ksvc  0.923602  0.000071\n",
       "4       dtree  0.923602  0.000071\n",
       "5  bag_dtree1  0.923602  0.000071\n",
       "7         etc  0.923602  0.000071\n",
       "9        xgbc  0.923602  0.000071\n",
       "6         rfc  0.921734  0.000717\n",
       "8         gbc  0.903449  0.028215\n",
       "0         knn  0.873481  0.005070"
      ]
     },
     "execution_count": 631,
     "metadata": {},
     "output_type": "execute_result"
    }
   ],
   "source": [
    "# Show the accuracy dataframe\n",
    "accuracy_df.sort_values(by=['mean'], inplace=True,ascending=False)\n",
    "accuracy_df"
   ]
  },
  {
   "cell_type": "code",
   "execution_count": 632,
   "metadata": {},
   "outputs": [],
   "source": [
    "# Create a prediction of all models on the test set\n",
    "predictions_all = {}\n",
    "for  key, value in classifiers.items():\n",
    "    # Get best estimator\n",
    "    best_model = value.best_estimator_\n",
    "    \n",
    "    # Predict test labels\n",
    "    predictions = best_model.predict(X_val)\n",
    "    \n",
    "    # Save predictions to a list\n",
    "    predictions_all[key] = predictions"
   ]
  },
  {
   "cell_type": "code",
   "execution_count": 633,
   "metadata": {},
   "outputs": [],
   "source": [
    "# Creat a DataFrame for the predictions\n",
    "pred = pd.DataFrame(predictions_all)"
   ]
  },
  {
   "cell_type": "code",
   "execution_count": 634,
   "metadata": {},
   "outputs": [
    {
     "data": {
      "text/plain": [
       "Text(0.5, 1, 'Correlation of the test set label prediction between models')"
      ]
     },
     "execution_count": 634,
     "metadata": {},
     "output_type": "execute_result"
    },
    {
     "data": {
      "image/png": "[encoded data removed]",
      "text/plain": [
       "<Figure size 648x432 with 2 Axes>"
      ]
     },
     "metadata": {},
     "output_type": "display_data"
    }
   ],
   "source": [
    "# Plot a heatmap of all correlations for easier visualization\n",
    "fig, ax = plt.subplots(nrows=1, ncols=1, figsize=(9,6))\n",
    "g = sns.heatmap(pred.corr(), annot=True, cmap='coolwarm', ax=ax)\n",
    "g.set_title('Correlation of the test set label prediction between models')"
   ]
  },
  {
   "cell_type": "code",
   "execution_count": 635,
   "metadata": {},
   "outputs": [],
   "source": [
    "def get_redundant_pairs(data):\n",
    "    '''Get diagonal and lower triangular pairs of correlation matrix'''\n",
    "    pairs_to_drop = set()\n",
    "    cols = data.columns\n",
    "    for i in range(0, data.shape[1]):\n",
    "        for j in range(0, i+1):\n",
    "            pairs_to_drop.add((cols[i], cols[j]))\n",
    "    return pairs_to_drop"
   ]
  },
  {
   "cell_type": "code",
   "execution_count": 637,
   "metadata": {},
   "outputs": [],
   "source": [
    "def get_top_abs_correlations(data, n=5):\n",
    "    au_corr = data.corr().abs().unstack()\n",
    "    labels_to_drop = get_redundant_pairs(data)\n",
    "    au_corr = au_corr.drop(labels=labels_to_drop).sort_values(ascending=True)\n",
    "    return au_corr[0:n]"
   ]
  },
  {
   "cell_type": "code",
   "execution_count": 638,
   "metadata": {},
   "outputs": [
    {
     "name": "stdout",
     "output_type": "stream",
     "text": [
      "Least Absolute Correlations\n",
      "knn  gbc       0.016839\n",
      "rfc  gbc       0.026805\n",
      "knn  rfc       0.281643\n",
      "     logreg         NaN\n",
      "     lsvc           NaN\n",
      "dtype: float64\n"
     ]
    }
   ],
   "source": [
    "print(\"Least Absolute Correlations\")\n",
    "print(get_top_abs_correlations(pred, 5))"
   ]
  },
  {
   "cell_type": "markdown",
   "metadata": {},
   "source": [
    "#### Voting"
   ]
  },
  {
   "cell_type": "code",
   "execution_count": 643,
   "metadata": {},
   "outputs": [],
   "source": [
    "from sklearn.ensemble import VotingClassifier"
   ]
  },
  {
   "cell_type": "code",
   "execution_count": 644,
   "metadata": {},
   "outputs": [
    {
     "data": {
      "text/plain": [
       "GridSearchCV(cv=5, error_score=nan,\n",
       "             estimator=VotingClassifier(estimators=[('knn',\n",
       "                                                     KNeighborsClassifier(algorithm='auto',\n",
       "                                                                          leaf_size=30,\n",
       "                                                                          metric='minkowski',\n",
       "                                                                          metric_params=None,\n",
       "                                                                          n_jobs=None,\n",
       "                                                                          n_neighbors=23,\n",
       "                                                                          p=2,\n",
       "                                                                          weights='uniform')),\n",
       "                                                    ('logreg',\n",
       "                                                     LogisticRegression(C=0.001,\n",
       "                                                                        class_weight=None,\n",
       "                                                                        dual=False,\n",
       "                                                                        fit_intercept=True,\n",
       "                                                                        intercept_scaling=1,\n",
       "                                                                        l1_ratio=None,\n",
       "                                                                        max_iter=10...\n",
       "                                                                            min_weight_fraction_leaf=0.0,\n",
       "                                                                            n_estimators=500,\n",
       "                                                                            n_jobs=None,\n",
       "                                                                            oob_score=False,\n",
       "                                                                            random_state=42,\n",
       "                                                                            verbose=0,\n",
       "                                                                            warm_start=False))],\n",
       "                                        flatten_transform=True, n_jobs=None,\n",
       "                                        voting='hard', weights=None),\n",
       "             iid='deprecated', n_jobs=None,\n",
       "             param_grid={'voting': ['hard', 'soft']}, pre_dispatch='2*n_jobs',\n",
       "             refit=True, return_train_score=True,\n",
       "             scoring=make_scorer(fbeta_score, beta=2), verbose=0)"
      ]
     },
     "execution_count": 644,
     "metadata": {},
     "output_type": "execute_result"
    }
   ],
   "source": [
    "vclf1 = VotingClassifier(estimators=\n",
    "                              [('knn', grid_knn.best_estimator_), \n",
    "                               ('logreg', logreg_grid.best_estimator_), \n",
    "#                                ('ksvc', svm_grid.best_estimator_),\n",
    "                               ('rfc', rfc_grid.best_estimator_)\n",
    "                              ], )\n",
    "vclf1_param = {\n",
    "              'voting' : ['hard','soft'],\n",
    "             }\n",
    "vclf1_grid = GridSearchCV(vclf1, vclf1_param,cv=5, return_train_score=True, scoring = f2score )\n",
    "vclf1_grid.fit(X_train,y_train)"
   ]
  },
  {
   "cell_type": "code",
   "execution_count": 645,
   "metadata": {},
   "outputs": [
    {
     "name": "stdout",
     "output_type": "stream",
     "text": [
      "Best Mean Cross Validation Score is 0.9221215541370782\n",
      "Best Params {'voting': 'hard'}\n",
      "Train score is 0.9222102361260937\n",
      "Test score is 0.9237233815255323\n",
      "Val score is 0.9238429574437598\n"
     ]
    }
   ],
   "source": [
    "print(f'Best Mean Cross Validation Score is {vclf1_grid.best_score_}')\n",
    "print(f'Best Params {vclf1_grid.best_params_}')\n",
    "print(f'Train score is {vclf1_grid.score(X_train,y_train)}')\n",
    "print(f'Test score is {vclf1_grid.score(X_test,y_test)}')\n",
    "print(f'Val score is {vclf1_grid.score(X_val,y_val)}')"
   ]
  },
  {
   "cell_type": "code",
   "execution_count": 646,
   "metadata": {},
   "outputs": [
    {
     "data": {
      "text/plain": [
       "GridSearchCV(cv=5, error_score=nan,\n",
       "             estimator=VotingClassifier(estimators=[('knn',\n",
       "                                                     KNeighborsClassifier(algorithm='auto',\n",
       "                                                                          leaf_size=30,\n",
       "                                                                          metric='minkowski',\n",
       "                                                                          metric_params=None,\n",
       "                                                                          n_jobs=None,\n",
       "                                                                          n_neighbors=23,\n",
       "                                                                          p=2,\n",
       "                                                                          weights='uniform')),\n",
       "                                                    ('logreg',\n",
       "                                                     LogisticRegression(C=0.001,\n",
       "                                                                        class_weight=None,\n",
       "                                                                        dual=False,\n",
       "                                                                        fit_intercept=True,\n",
       "                                                                        intercept_scaling=1,\n",
       "                                                                        l1_ratio=None,\n",
       "                                                                        max_iter=10...\n",
       "                                                                   reg_lambda=0.100000001,\n",
       "                                                                   scale_pos_weight=1,\n",
       "                                                                   subsample=0.8,\n",
       "                                                                   tree_method=None,\n",
       "                                                                   validate_parameters=False,\n",
       "                                                                   verbosity=None))],\n",
       "                                        flatten_transform=True, n_jobs=None,\n",
       "                                        voting='hard', weights=None),\n",
       "             iid='deprecated', n_jobs=None,\n",
       "             param_grid={'voting': ['hard', 'soft']}, pre_dispatch='2*n_jobs',\n",
       "             refit=True, return_train_score=True,\n",
       "             scoring=make_scorer(fbeta_score, beta=2), verbose=0)"
      ]
     },
     "execution_count": 646,
     "metadata": {},
     "output_type": "execute_result"
    }
   ],
   "source": [
    "vclf2 = VotingClassifier(estimators=\n",
    "                              [('knn', grid_knn.best_estimator_), \n",
    "                               ('logreg', logreg_grid.best_estimator_), \n",
    "#                                ('lsvc', svc_grid.best_estimator_),\n",
    "                               ('xgb', xgbc_grid.best_estimator_)\n",
    "                              ], )\n",
    "vclf2_param = {\n",
    "              'voting' : ['hard','soft'],\n",
    "             }\n",
    "vclf2_grid = GridSearchCV(vclf2, vclf2_param,cv=5, return_train_score=True, scoring = f2score )\n",
    "vclf2_grid.fit(X_train,y_train)\n"
   ]
  },
  {
   "cell_type": "code",
   "execution_count": 647,
   "metadata": {},
   "outputs": [
    {
     "name": "stdout",
     "output_type": "stream",
     "text": [
      "Best Mean Cross Validation Score is 0.9236018193980904\n",
      "Best Params {'voting': 'hard'}\n",
      "Train score is 0.9236018324107654\n",
      "Test score is 0.926687464549064\n",
      "Val score is 0.9249358426005133\n"
     ]
    }
   ],
   "source": [
    "print(f'Best Mean Cross Validation Score is {vclf2_grid.best_score_}')\n",
    "print(f'Best Params {vclf2_grid.best_params_}')\n",
    "print(f'Train score is {vclf2_grid.score(X_train,y_train)}')\n",
    "print(f'Test score is {vclf2_grid.score(X_test,y_test)}')\n",
    "print(f'Val score is {vclf2_grid.score(X_val,y_val)}')"
   ]
  },
  {
   "cell_type": "markdown",
   "metadata": {},
   "source": [
    "#### Stacking"
   ]
  },
  {
   "cell_type": "code",
   "execution_count": 648,
   "metadata": {},
   "outputs": [],
   "source": [
    "from sklearn.ensemble import StackingClassifier"
   ]
  },
  {
   "cell_type": "code",
   "execution_count": 649,
   "metadata": {},
   "outputs": [
    {
     "data": {
      "text/plain": [
       "GridSearchCV(cv=5, error_score=nan,\n",
       "             estimator=StackingClassifier(cv=None,\n",
       "                                          estimators=[('knn',\n",
       "                                                       KNeighborsClassifier(algorithm='auto',\n",
       "                                                                            leaf_size=30,\n",
       "                                                                            metric='minkowski',\n",
       "                                                                            metric_params=None,\n",
       "                                                                            n_jobs=None,\n",
       "                                                                            n_neighbors=23,\n",
       "                                                                            p=2,\n",
       "                                                                            weights='uniform')),\n",
       "                                                      ('logreg',\n",
       "                                                       LogisticRegression(C=0.001,\n",
       "                                                                          class_weight=None,\n",
       "                                                                          dual=False,\n",
       "                                                                          fit_intercept=True,\n",
       "                                                                          intercept_scaling=1,\n",
       "                                                                          l1_ratio=None,\n",
       "                                                                          m...\n",
       "                                                                        subsample=None,\n",
       "                                                                        tree_method=None,\n",
       "                                                                        validate_parameters=False,\n",
       "                                                                        verbosity=None),\n",
       "                                          n_jobs=None, passthrough=False,\n",
       "                                          stack_method='auto', verbose=0),\n",
       "             iid='deprecated', n_jobs=None,\n",
       "             param_grid={'final_estimator__C': [0.01, 0.1, 0.2],\n",
       "                         'stack_method': ['auto', 'predict_proba']},\n",
       "             pre_dispatch='2*n_jobs', refit=True, return_train_score=True,\n",
       "             scoring=make_scorer(fbeta_score, beta=2), verbose=0)"
      ]
     },
     "execution_count": 649,
     "metadata": {},
     "output_type": "execute_result"
    }
   ],
   "source": [
    "sclf1 = StackingClassifier(estimators=\n",
    "                              [('knn', grid_knn.best_estimator_), \n",
    "                               ('logreg', logreg_grid.best_estimator_), \n",
    "#                                ('ksvc', svm_grid.best_estimator_),\n",
    "                               ('rfc', rfc_grid.best_estimator_)\n",
    "                              ], final_estimator=XGBClassifier())\n",
    "sclf1_param = {\n",
    "              'final_estimator__C' : [0.01,0.1,0.2],\n",
    "              'stack_method':['auto', 'predict_proba']\n",
    "             }\n",
    "sclf1_grid = GridSearchCV(sclf1, sclf1_param,cv=5, return_train_score=True, scoring = f2score )\n",
    "sclf1_grid.fit(X_train,y_train)"
   ]
  },
  {
   "cell_type": "code",
   "execution_count": 650,
   "metadata": {},
   "outputs": [
    {
     "name": "stdout",
     "output_type": "stream",
     "text": [
      "Best Mean Cross Validation Score is 0.8357816186281758\n",
      "Best Mean Cross Validation Score is {'final_estimator__C': 0.01, 'stack_method': 'auto'}\n",
      "Train score is 0.8484050037092937\n",
      "Test score is 0.8434374052743255\n",
      "Val score is 0.8419520416762432\n"
     ]
    }
   ],
   "source": [
    "print(f'Best Mean Cross Validation Score is {sclf1_grid.best_score_}')\n",
    "print(f'Best Mean Cross Validation Score is {sclf1_grid.best_params_}')\n",
    "print(f'Train score is {sclf1_grid.score(X_train,y_train)}')\n",
    "print(f'Test score is {sclf1_grid.score(X_test,y_test)}')\n",
    "print(f'Val score is {sclf1_grid.score(X_val,y_val)}')"
   ]
  },
  {
   "cell_type": "code",
   "execution_count": 651,
   "metadata": {},
   "outputs": [
    {
     "data": {
      "text/plain": [
       "GridSearchCV(cv=5, error_score=nan,\n",
       "             estimator=StackingClassifier(cv=None,\n",
       "                                          estimators=[('knn',\n",
       "                                                       KNeighborsClassifier(algorithm='auto',\n",
       "                                                                            leaf_size=30,\n",
       "                                                                            metric='minkowski',\n",
       "                                                                            metric_params=None,\n",
       "                                                                            n_jobs=None,\n",
       "                                                                            n_neighbors=23,\n",
       "                                                                            p=2,\n",
       "                                                                            weights='uniform')),\n",
       "                                                      ('xgb',\n",
       "                                                       XGBClassifier(alpha=0.1,\n",
       "                                                                     base_score=0.5,\n",
       "                                                                     booster=None,\n",
       "                                                                     colsample_bylevel=1,\n",
       "                                                                     colsample_bynode=1,\n",
       "                                                                     colsample_bytree=0.6,\n",
       "                                                                     e...\n",
       "                                                                             random_state=None,\n",
       "                                                                             solver='lbfgs',\n",
       "                                                                             tol=0.0001,\n",
       "                                                                             verbose=0,\n",
       "                                                                             warm_start=False),\n",
       "                                          n_jobs=None, passthrough=False,\n",
       "                                          stack_method='auto', verbose=0),\n",
       "             iid='deprecated', n_jobs=None,\n",
       "             param_grid={'final_estimator__C': [0.01, 0.1, 0.2],\n",
       "                         'stack_method': ['auto', 'predict_proba']},\n",
       "             pre_dispatch='2*n_jobs', refit=True, return_train_score=True,\n",
       "             scoring=make_scorer(fbeta_score, beta=2), verbose=0)"
      ]
     },
     "execution_count": 651,
     "metadata": {},
     "output_type": "execute_result"
    }
   ],
   "source": [
    "sclf2 = StackingClassifier(estimators=\n",
    "                              [('knn', grid_knn.best_estimator_), \n",
    "#                                ('lsvc', svc_grid.best_estimator_),\n",
    "                               ('xgb', xgbc_grid.best_estimator_)\n",
    "                              ], final_estimator=LogisticRegression())\n",
    "sclf2_param = {\n",
    "              'final_estimator__C' : [0.01, 0.1,0.2],\n",
    "              'stack_method':['auto', 'predict_proba']\n",
    "             }\n",
    "sclf2_grid = GridSearchCV(sclf2, sclf2_param,cv=5, return_train_score=True, scoring = f2score )\n",
    "sclf2_grid.fit(X_train,y_train)"
   ]
  },
  {
   "cell_type": "code",
   "execution_count": 652,
   "metadata": {},
   "outputs": [
    {
     "name": "stdout",
     "output_type": "stream",
     "text": [
      "Best Mean Cross Validation Score is 0.9180550416751114\n",
      "Best Mean Cross Validation Score is {'final_estimator__C': 0.01, 'stack_method': 'auto'}\n",
      "Train score is 0.9193790201673357\n",
      "Test score is 0.9134684490441282\n",
      "Val score is 0.9128360797918472\n"
     ]
    }
   ],
   "source": [
    "print(f'Best Mean Cross Validation Score is {sclf2_grid.best_score_}')\n",
    "print(f'Best Mean Cross Validation Score is {sclf2_grid.best_params_}')\n",
    "print(f'Train score is {sclf2_grid.score(X_train,y_train)}')\n",
    "print(f'Test score is {sclf2_grid.score(X_test,y_test)}')\n",
    "print(f'Val score is {sclf2_grid.score(X_val,y_val)}')"
   ]
  },
  {
   "cell_type": "code",
   "execution_count": 656,
   "metadata": {},
   "outputs": [
    {
     "data": {
      "text/plain": [
       "GridSearchCV(cv=5, error_score=nan,\n",
       "             estimator=StackingClassifier(cv=None,\n",
       "                                          estimators=[('knn',\n",
       "                                                       KNeighborsClassifier(algorithm='auto',\n",
       "                                                                            leaf_size=30,\n",
       "                                                                            metric='minkowski',\n",
       "                                                                            metric_params=None,\n",
       "                                                                            n_jobs=None,\n",
       "                                                                            n_neighbors=23,\n",
       "                                                                            p=2,\n",
       "                                                                            weights='uniform')),\n",
       "                                                      ('xgb',\n",
       "                                                       XGBClassifier(alpha=0.1,\n",
       "                                                                     base_score=0.5,\n",
       "                                                                     booster=None,\n",
       "                                                                     colsample_bylevel=1,\n",
       "                                                                     colsample_bynode=1,\n",
       "                                                                     colsample_bytree=0.6,\n",
       "                                                                     e...\n",
       "                                                                             random_state=None,\n",
       "                                                                             solver='lbfgs',\n",
       "                                                                             tol=0.0001,\n",
       "                                                                             verbose=0,\n",
       "                                                                             warm_start=False),\n",
       "                                          n_jobs=None, passthrough=False,\n",
       "                                          stack_method='auto', verbose=0),\n",
       "             iid='deprecated', n_jobs=None,\n",
       "             param_grid={'final_estimator__C': [0.01, 0.1, 0.2],\n",
       "                         'stack_method': ['auto', 'predict_proba']},\n",
       "             pre_dispatch='2*n_jobs', refit=True, return_train_score=True,\n",
       "             scoring=make_scorer(fbeta_score, beta=2), verbose=0)"
      ]
     },
     "execution_count": 656,
     "metadata": {},
     "output_type": "execute_result"
    }
   ],
   "source": [
    "sclf3 = StackingClassifier(estimators=\n",
    "                              [('knn', grid_knn.best_estimator_), \n",
    "#                                ('lsvc', svc_grid.best_estimator_),\n",
    "                               ('xgb', xgbc_grid.best_estimator_)\n",
    "                              ], final_estimator=LogisticRegression())\n",
    "sclf3_param = {\n",
    "              'final_estimator__C' : [0.01, 0.1,0.2],\n",
    "              'stack_method':['auto', 'predict_proba']\n",
    "             }\n",
    "sclf3_grid = GridSearchCV(sclf3, sclf3_param,cv=5, return_train_score=True, scoring = f2score )\n",
    "sclf3_grid.fit(X_train,y_train)"
   ]
  },
  {
   "cell_type": "code",
   "execution_count": 654,
   "metadata": {},
   "outputs": [
    {
     "name": "stdout",
     "output_type": "stream",
     "text": [
      "Best Mean Cross Validation Score is 0.9180550416751114\n",
      "Best Mean Cross Validation Score is {'final_estimator__C': 0.01, 'stack_method': 'auto'}\n",
      "Train score is 0.9193790201673357\n",
      "Test score is 0.9134684490441282\n",
      "Val score is 0.9128360797918472\n"
     ]
    }
   ],
   "source": [
    "print(f'Best Mean Cross Validation Score is {sclf3_grid.best_score_}')\n",
    "print(f'Best Mean Cross Validation Score is {sclf3_grid.best_params_}')\n",
    "print(f'Train score is {sclf3_grid.score(X_train,y_train)}')\n",
    "print(f'Test score is {sclf3_grid.score(X_test,y_test)}')\n",
    "print(f'Val score is {sclf3_grid.score(X_val,y_val)}')"
   ]
  },
  {
   "cell_type": "markdown",
   "metadata": {},
   "source": [
    "## Cost Sensitive Algorithms"
   ]
  },
  {
   "cell_type": "markdown",
   "metadata": {},
   "source": [
    "#### Logistic Regeression"
   ]
  },
  {
   "cell_type": "code",
   "execution_count": 680,
   "metadata": {},
   "outputs": [
    {
     "name": "stdout",
     "output_type": "stream",
     "text": [
      "Best parameters: {'class_weight': {0: 1, 1: 1}}\n",
      "Best Mean cross-validation score: 0.92\n",
      "Logistic Test Performance:  0.926687464549064\n",
      "Logistic Validation Performance:  0.9249358426005133\n"
     ]
    }
   ],
   "source": [
    "#cost sensitive logistic regession\n",
    "param_grid = {\n",
    "    'class_weight': [{0:100,1:1}, {0:10,1:1}, {0:1,1:1}, {0:1,1:10}, {0:1,1:100}],\n",
    "}\n",
    "#apply grid search\n",
    "cgrid_logreg= GridSearchCV(LogisticRegression(C = 0.001, penalty='l2', solver = 'saga'), param_grid, \n",
    "                           cv=5, n_jobs=2, scoring= f2score)\n",
    "cgrid_logreg.fit(X_train, y_train)\n",
    "\n",
    "print(\"Best parameters: {}\".format(cgrid_logreg.best_params_))\n",
    "print(\"Best Mean cross-validation score: {:.2f}\".format(cgrid_logreg.best_score_))\n",
    "\n",
    "# Check test data set performance\n",
    "print(\"Logistic Test Performance: \", cgrid_logreg.score(X_test,y_test))\n",
    "print(\"Logistic Validation Performance: \", cgrid_logreg.score(X_val,y_val))"
   ]
  },
  {
   "cell_type": "code",
   "execution_count": 681,
   "metadata": {},
   "outputs": [
    {
     "name": "stdout",
     "output_type": "stream",
     "text": [
      "Best parameters: {'class_weight': {0: 10, 1: 1}}\n",
      "Best Mean cross-validation score: 0.80\n",
      "Logistic Test Performance:  0.8086706530377272\n",
      "Logistic Validation Performance:  0.8152863549780698\n"
     ]
    }
   ],
   "source": [
    "#cost sensitive logistic regession\n",
    "param_grid = {\n",
    "    'class_weight': [{0:100,1:1}, {0:10,1:1}, {0:1,1:1}, {0:1,1:10}, {0:1,1:100}],\n",
    "}\n",
    "#apply grid search\n",
    "cgrid_logreg= GridSearchCV(LogisticRegression(C = 0.001, penalty='l2', solver = 'saga'), param_grid, \n",
    "                           cv=5, n_jobs=2, scoring= 'roc_auc')\n",
    "cgrid_logreg.fit(X_train, y_train)\n",
    "\n",
    "print(\"Best parameters: {}\".format(cgrid_logreg.best_params_))\n",
    "print(\"Best Mean cross-validation score: {:.2f}\".format(cgrid_logreg.best_score_))\n",
    "\n",
    "# Check test data set performance\n",
    "print(\"Logistic Test Performance: \", cgrid_logreg.score(X_test,y_test))\n",
    "print(\"Logistic Validation Performance: \", cgrid_logreg.score(X_val,y_val))"
   ]
  },
  {
   "cell_type": "code",
   "execution_count": 660,
   "metadata": {},
   "outputs": [
    {
     "name": "stdout",
     "output_type": "stream",
     "text": [
      "Best parameters: {'class_weight': {0: 29, 1: 71}}\n",
      "Best Mean cross-validation score: 0.85\n",
      "Logistic Test Performance:  0.6994291969661428\n",
      "Logistic Validation Performance:  0.6839939868660495\n"
     ]
    },
    {
     "name": "stderr",
     "output_type": "stream",
     "text": [
      "C:\\Users\\srish\\Anaconda3\\lib\\site-packages\\sklearn\\linear_model\\_sag.py:330: ConvergenceWarning: The max_iter was reached which means the coef_ did not converge\n",
      "  \"the coef_ did not converge\", ConvergenceWarning)\n"
     ]
    }
   ],
   "source": [
    "#cost sensitive logistic regession\n",
    "param_grid = {   \n",
    "    'class_weight': [{0:29,1:71}, {0:71,1:29}],\n",
    "}\n",
    "#apply grid search\n",
    "cgrid_logreg= GridSearchCV(LogisticRegression(C = 0.001, penalty='l2', solver = 'saga'), param_grid, \n",
    "                           cv=5, n_jobs=2, scoring= f2score)\n",
    "cgrid_logreg.fit(X_train, y_train)\n",
    "\n",
    "print(\"Best parameters: {}\".format(cgrid_logreg.best_params_))\n",
    "print(\"Best Mean cross-validation score: {:.2f}\".format(cgrid_logreg.best_score_))\n",
    "\n",
    "# Check test data set performance\n",
    "print(\"Logistic Test Performance: \", cgrid_logreg.score(X_test,y_test))\n",
    "print(\"Logistic Validation Performance: \", cgrid_logreg.score(X_val,y_val))"
   ]
  },
  {
   "cell_type": "code",
   "execution_count": 682,
   "metadata": {},
   "outputs": [
    {
     "name": "stdout",
     "output_type": "stream",
     "text": [
      "Best parameters: {'class_weight': {0: 71, 1: 29}}\n",
      "Best Mean cross-validation score: 0.61\n",
      "Logistic Test Performance:  0.6926050251657864\n",
      "Logistic Validation Performance:  0.6929633106254814\n"
     ]
    },
    {
     "name": "stderr",
     "output_type": "stream",
     "text": [
      "C:\\Users\\srish\\Anaconda3\\lib\\site-packages\\sklearn\\linear_model\\_sag.py:330: ConvergenceWarning: The max_iter was reached which means the coef_ did not converge\n",
      "  \"the coef_ did not converge\", ConvergenceWarning)\n"
     ]
    }
   ],
   "source": [
    "#cost sensitive logistic regession\n",
    "param_grid = {   \n",
    "    'class_weight': [{0:29,1:71}, {0:71,1:29}],\n",
    "}\n",
    "#apply grid search\n",
    "cgrid_logreg= GridSearchCV(LogisticRegression(C = 0.001, penalty='l2', solver = 'saga'), param_grid, \n",
    "                           cv=5, n_jobs=2, scoring= 'roc_auc')\n",
    "cgrid_logreg.fit(X_train, y_train)\n",
    "\n",
    "print(\"Best parameters: {}\".format(cgrid_logreg.best_params_))\n",
    "print(\"Best Mean cross-validation score: {:.2f}\".format(cgrid_logreg.best_score_))\n",
    "\n",
    "# Check test data set performance\n",
    "print(\"Logistic Test Performance: \", cgrid_logreg.score(X_test,y_test))\n",
    "print(\"Logistic Validation Performance: \", cgrid_logreg.score(X_val,y_val))"
   ]
  },
  {
   "cell_type": "markdown",
   "metadata": {},
   "source": [
    "#### SVC"
   ]
  },
  {
   "cell_type": "code",
   "execution_count": 663,
   "metadata": {},
   "outputs": [
    {
     "name": "stdout",
     "output_type": "stream",
     "text": [
      "Best parameters: {'class_weight': {0: 1, 1: 1}}\n",
      "\n",
      "Best Mean cross-validation score: 0.92\n",
      "\n",
      "SVC Test Performance:  0.926687464549064\n",
      "SVC Val Performance:  0.9249358426005133\n",
      "\n"
     ]
    }
   ],
   "source": [
    "param_grid = {\n",
    "    'class_weight': [{0:100,1:1}, {0:10,1:1}, {0:1,1:1}, {0:1,1:10}, {0:1,1:100}],\n",
    "}\n",
    "\n",
    "cgrid_svc= GridSearchCV(SVC(C =0.001, kernel = 'rbf'), param_grid, cv=5, n_jobs=2, scoring=f2score)\n",
    "cgrid_svc.fit(X_train, y_train)\n",
    "\n",
    "print(\"Best parameters: {}\".format(cgrid_svc.best_params_))\n",
    "print()\n",
    "print(\"Best Mean cross-validation score: {:.2f}\".format(cgrid_svc.best_score_))\n",
    "print()\n",
    "#Check test data set performance\n",
    "print(\"SVC Test Performance: \",cgrid_svc.score(X_test,y_test))\n",
    "print(\"SVC Val Performance: \",cgrid_svc.score(X_val,y_val))\n",
    "print()"
   ]
  },
  {
   "cell_type": "code",
   "execution_count": 664,
   "metadata": {},
   "outputs": [
    {
     "name": "stdout",
     "output_type": "stream",
     "text": [
      "Best parameters: {'class_weight': {0: 29, 1: 71}}\n",
      "\n",
      "Best Mean cross-validation score: 0.92\n",
      "\n",
      "SVC Test Performance:  0.926687464549064\n",
      "SVC Val Performance:  0.9249358426005133\n",
      "\n"
     ]
    }
   ],
   "source": [
    "param_grid = {   \n",
    "    'class_weight': [{0:29,1:71}, {0:71,1:29}],\n",
    "}\n",
    "\n",
    "cgrid_svc= GridSearchCV(SVC(C =0.001, kernel = 'rbf'), param_grid, cv=5, n_jobs=2, scoring=f2score)\n",
    "cgrid_svc.fit(X_train, y_train)\n",
    "\n",
    "print(\"Best parameters: {}\".format(cgrid_svc.best_params_))\n",
    "print()\n",
    "print(\"Best Mean cross-validation score: {:.2f}\".format(cgrid_svc.best_score_))\n",
    "print()\n",
    "#Check test data set performance\n",
    "print(\"SVC Test Performance: \",cgrid_svc.score(X_test,y_test))\n",
    "print(\"SVC Val Performance: \",cgrid_svc.score(X_val,y_val))\n",
    "print()"
   ]
  },
  {
   "cell_type": "code",
   "execution_count": 773,
   "metadata": {},
   "outputs": [
    {
     "name": "stdout",
     "output_type": "stream",
     "text": [
      "Best parameters: {'class_weight': {0: 1, 1: 1}}\n",
      "\n",
      "Best Mean cross-validation score: 0.81\n",
      "\n",
      "SVC Test Performance:  0.8146890571376564\n",
      "SVC Val Performance:  0.8214070451064671\n",
      "\n"
     ]
    }
   ],
   "source": [
    "param_grid = {\n",
    "    'class_weight': [{0:100,1:1}, {0:10,1:1}, {0:1,1:1}, {0:1,1:10}, {0:1,1:100}],\n",
    "}\n",
    "\n",
    "cgrid_svc= GridSearchCV(SVC(C =0.001, kernel = 'rbf'), param_grid, cv=5, n_jobs=2, scoring='roc_auc')\n",
    "cgrid_svc.fit(X_train, y_train)\n",
    "\n",
    "print(\"Best parameters: {}\".format(cgrid_svc.best_params_))\n",
    "print()\n",
    "print(\"Best Mean cross-validation score: {:.2f}\".format(cgrid_svc.best_score_))\n",
    "print()\n",
    "#Check test data set performance\n",
    "print(\"SVC Test Performance: \",cgrid_svc.score(X_test,y_test))\n",
    "print(\"SVC Val Performance: \",cgrid_svc.score(X_val,y_val))\n",
    "print()"
   ]
  },
  {
   "cell_type": "markdown",
   "metadata": {},
   "source": [
    "#### Decision Tree"
   ]
  },
  {
   "cell_type": "code",
   "execution_count": 665,
   "metadata": {},
   "outputs": [
    {
     "name": "stdout",
     "output_type": "stream",
     "text": [
      "Best parameters: {'class_weight': {0: 1, 1: 10}}\n",
      "Best Mean cross-validation score: 0.92\n",
      "DTree Test Performance:  0.926687464549064\n",
      "DTree Val Performance:  0.9249358426005133\n",
      "\n"
     ]
    }
   ],
   "source": [
    "param_grid = { \n",
    "    'class_weight': [{0:100,1:1}, {0:10,1:1}, {0:1,1:1}, {0:1,1:10}, {0:1,1:100}],\n",
    "}\n",
    "#apply grid search\n",
    "cgrid_dtree= GridSearchCV(DecisionTreeClassifier(criterion = 'gini', max_depth = 1, max_leaf_nodes=2, min_samples_split= 2, splitter='random'), \n",
    "                          param_grid, cv=5, n_jobs=2, scoring= f2score)\n",
    "cgrid_dtree.fit(X_train, y_train)\n",
    "\n",
    "print(\"Best parameters: {}\".format(cgrid_dtree.best_params_))\n",
    "print(\"Best Mean cross-validation score: {:.2f}\".format(cgrid_dtree.best_score_))\n",
    "#Check test data set performance\n",
    "print(\"DTree Test Performance: \",cgrid_dtree.score(X_test,y_test))\n",
    "print(\"DTree Val Performance: \",cgrid_dtree.score(X_val,y_val))\n",
    "print()"
   ]
  },
  {
   "cell_type": "code",
   "execution_count": 675,
   "metadata": {},
   "outputs": [
    {
     "name": "stdout",
     "output_type": "stream",
     "text": [
      "Best parameters: {'class_weight': {0: 1, 1: 1}}\n",
      "Best Mean cross-validation score: 0.65\n",
      "DTree Test Performance:  0.5907633202559052\n",
      "DTree Val Performance:  0.5977833769741284\n",
      "\n"
     ]
    }
   ],
   "source": [
    "param_grid = { \n",
    "    'class_weight': [{0:100,1:1}, {0:10,1:1}, {0:1,1:1}, {0:1,1:10}, {0:1,1:100}],\n",
    "}\n",
    "#apply grid search\n",
    "cgrid_dtree= GridSearchCV(DecisionTreeClassifier(criterion = 'gini', max_depth = 1, max_leaf_nodes=2, min_samples_split= 2, splitter='random'), \n",
    "                          param_grid, cv=5, n_jobs=2, scoring= 'roc_auc')\n",
    "cgrid_dtree.fit(X_train, y_train)\n",
    "\n",
    "print(\"Best parameters: {}\".format(cgrid_dtree.best_params_))\n",
    "print(\"Best Mean cross-validation score: {:.2f}\".format(cgrid_dtree.best_score_))\n",
    "#Check test data set performance\n",
    "print(\"DTree Test Performance: \",cgrid_dtree.score(X_test,y_test))\n",
    "print(\"DTree Val Performance: \",cgrid_dtree.score(X_val,y_val))\n",
    "print()"
   ]
  },
  {
   "cell_type": "code",
   "execution_count": 666,
   "metadata": {},
   "outputs": [
    {
     "name": "stdout",
     "output_type": "stream",
     "text": [
      "Best parameters: {'class_weight': {0: 29, 1: 71}}\n",
      "Best Mean cross-validation score: 0.92\n",
      "DTree Test Performance:  0.926687464549064\n",
      "DTree Val Performance:  0.9249358426005133\n",
      "\n"
     ]
    }
   ],
   "source": [
    "param_grid = {   \n",
    "    'class_weight': [{0:29,1:71}, {0:71,1:29}],\n",
    "}\n",
    "#apply grid search\n",
    "cgrid_dtree= GridSearchCV(DecisionTreeClassifier(criterion = 'gini', max_depth = 1, max_leaf_nodes=2, min_samples_split= 2, splitter='random'), \n",
    "                          param_grid, cv=5, n_jobs=2, scoring= f2score)\n",
    "cgrid_dtree.fit(X_train, y_train)\n",
    "\n",
    "print(\"Best parameters: {}\".format(cgrid_dtree.best_params_))\n",
    "print(\"Best Mean cross-validation score: {:.2f}\".format(cgrid_dtree.best_score_))\n",
    "#Check test data set performance\n",
    "print(\"DTree Test Performance: \",cgrid_dtree.score(X_test,y_test))\n",
    "print(\"DTree Val Performance: \",cgrid_dtree.score(X_val,y_val))\n",
    "print()"
   ]
  },
  {
   "cell_type": "code",
   "execution_count": 676,
   "metadata": {},
   "outputs": [
    {
     "name": "stdout",
     "output_type": "stream",
     "text": [
      "Best parameters: {'class_weight': {0: 29, 1: 71}}\n",
      "Best Mean cross-validation score: 0.64\n",
      "DTree Test Performance:  0.6640681999470194\n",
      "DTree Val Performance:  0.6787016451756336\n",
      "\n"
     ]
    }
   ],
   "source": [
    "param_grid = {   \n",
    "    'class_weight': [{0:29,1:71}, {0:71,1:29}],\n",
    "}\n",
    "#apply grid search\n",
    "cgrid_dtree= GridSearchCV(DecisionTreeClassifier(criterion = 'gini', max_depth = 1, max_leaf_nodes=2, min_samples_split= 2, splitter='random'), \n",
    "                          param_grid, cv=5, n_jobs=2, scoring= 'roc_auc')\n",
    "cgrid_dtree.fit(X_train, y_train)\n",
    "\n",
    "print(\"Best parameters: {}\".format(cgrid_dtree.best_params_))\n",
    "print(\"Best Mean cross-validation score: {:.2f}\".format(cgrid_dtree.best_score_))\n",
    "#Check test data set performance\n",
    "print(\"DTree Test Performance: \",cgrid_dtree.score(X_test,y_test))\n",
    "print(\"DTree Val Performance: \",cgrid_dtree.score(X_val,y_val))\n",
    "print()"
   ]
  },
  {
   "cell_type": "markdown",
   "metadata": {},
   "source": [
    "#### XGBoost"
   ]
  },
  {
   "cell_type": "code",
   "execution_count": 683,
   "metadata": {},
   "outputs": [
    {
     "name": "stdout",
     "output_type": "stream",
     "text": [
      "Best parameters: {'scale_pos_weight': 75}\n",
      "Best Mean cross-validation score: 0.91\n",
      "\n",
      "XGB Test Performance:  0.6640681999470194\n",
      "XGB Val Performance:  0.6787016451756336\n",
      "\n"
     ]
    }
   ],
   "source": [
    "#xgb\n",
    "param_grid = { \n",
    "    'scale_pos_weight': [1, 2, 10, 25, 50, 75, 99, 100],\n",
    "}\n",
    "#apply grid search\n",
    "cgrid_xgboost= GridSearchCV(XGBClassifier(), param_grid, cv=5, n_jobs=2, scoring=f2score)\n",
    "cgrid_xgboost.fit(X_train, y_train)\n",
    "\n",
    "print(\"Best parameters: {}\".format(cgrid_xgboost.best_params_))\n",
    "print(\"Best Mean cross-validation score: {:.2f}\".format(cgrid_xgboost.best_score_))\n",
    "print()\n",
    "print(\"XGB Test Performance: \",cgrid_dtree.score(X_test,y_test))\n",
    "print(\"XGB Val Performance: \",cgrid_dtree.score(X_val,y_val))\n",
    "print()"
   ]
  },
  {
   "cell_type": "code",
   "execution_count": 684,
   "metadata": {},
   "outputs": [
    {
     "name": "stdout",
     "output_type": "stream",
     "text": [
      "Best parameters: {'scale_pos_weight': 1}\n",
      "Best Mean cross-validation score: 0.83\n",
      "\n",
      "XGB Test Performance:  0.6640681999470194\n",
      "XGB Val Performance:  0.6787016451756336\n",
      "\n"
     ]
    }
   ],
   "source": [
    "#xgb\n",
    "param_grid = { \n",
    "    'scale_pos_weight': [1, 2, 10, 25, 50, 75, 99, 100],\n",
    "}\n",
    "#apply grid search\n",
    "cgrid_xgboost= GridSearchCV(XGBClassifier(), param_grid, cv=5, n_jobs=2, scoring='roc_auc')\n",
    "cgrid_xgboost.fit(X_train, y_train)\n",
    "print(\"Best parameters: {}\".format(cgrid_xgboost.best_params_))\n",
    "print(\"Best Mean cross-validation score: {:.2f}\".format(cgrid_xgboost.best_score_))\n",
    "print()\n",
    "print(\"XGB Test Performance: \",cgrid_dtree.score(X_test,y_test))\n",
    "print(\"XGB Val Performance: \",cgrid_dtree.score(X_val,y_val))\n",
    "print()"
   ]
  },
  {
   "cell_type": "markdown",
   "metadata": {},
   "source": [
    "#### Random Forest"
   ]
  },
  {
   "cell_type": "code",
   "execution_count": 691,
   "metadata": {},
   "outputs": [
    {
     "data": {
      "text/plain": [
       "GridSearchCV(cv=RepeatedStratifiedKFold(n_repeats=3, n_splits=10, random_state=1),\n",
       "             error_score=nan,\n",
       "             estimator=RandomForestClassifier(bootstrap=True, ccp_alpha=0.0,\n",
       "                                              class_weight='balanced',\n",
       "                                              criterion='gini', max_depth=None,\n",
       "                                              max_features='auto',\n",
       "                                              max_leaf_nodes=None,\n",
       "                                              max_samples=None,\n",
       "                                              min_impurity_decrease=0.0,\n",
       "                                              min_impurity_split=None,\n",
       "                                              min_samples_leaf=1,\n",
       "                                              min_sample...\n",
       "                                              min_weight_fraction_leaf=0.0,\n",
       "                                              n_estimators=100, n_jobs=None,\n",
       "                                              oob_score=False,\n",
       "                                              random_state=None, verbose=0,\n",
       "                                              warm_start=False),\n",
       "             iid='deprecated', n_jobs=None,\n",
       "             param_grid={'criterion': ['gini'], 'max_depth': [2],\n",
       "                         'max_features': ['auto'], 'min_samples_leaf': [1],\n",
       "                         'min_samples_split': [2], 'n_estimators': [500]},\n",
       "             pre_dispatch='2*n_jobs', refit=True, return_train_score=True,\n",
       "             scoring='roc_auc', verbose=0)"
      ]
     },
     "execution_count": 691,
     "metadata": {},
     "output_type": "execute_result"
    }
   ],
   "source": [
    "#random forest\n",
    "from sklearn.model_selection import RepeatedStratifiedKFold\n",
    "rf = RandomForestClassifier(class_weight='balanced')\n",
    "\n",
    "cv = RepeatedStratifiedKFold(n_splits=10, n_repeats=3, random_state=1)\n",
    "\n",
    "scores = cross_val_score(rf, X_train, y_train, scoring='roc_auc', cv=cv, n_jobs=-1)\n",
    "rfc_param = { \n",
    "    'n_estimators': [500],\n",
    "    'max_features': ['auto'],\n",
    "    'max_depth' : [2],\n",
    "    'criterion' :['gini'],\n",
    "    'min_samples_split':[2],\n",
    "    'min_samples_leaf':[1]\n",
    "}\n",
    "rfc_grid2 = GridSearchCV(rf, rfc_param,cv=cv, return_train_score=True, scoring = 'roc_auc')\n",
    "rfc_grid2.fit(X_train,y_train)"
   ]
  },
  {
   "cell_type": "code",
   "execution_count": 693,
   "metadata": {},
   "outputs": [
    {
     "name": "stdout",
     "output_type": "stream",
     "text": [
      "Mean cross_val_score ROC AUC: 0.814\n",
      "\n",
      "Best Mean Cross Validation Score is 0.8082910856289054\n",
      "\n",
      "XGB Test Performance:  0.8150336900397948\n",
      "XGB Val Performance:  0.8237806652064841\n",
      "\n"
     ]
    }
   ],
   "source": [
    "print('Mean cross_val_score ROC AUC: %.3f' % scores.mean())\n",
    "print()\n",
    "print(f'Best Mean Cross Validation Score is {rfc_grid2.best_score_}')\n",
    "print()\n",
    "print(\"XGB Test Performance: \",rfc_grid2.score(X_test,y_test))\n",
    "print(\"XGB Val Performance: \",rfc_grid2.score(X_val,y_val))\n",
    "print()"
   ]
  },
  {
   "cell_type": "code",
   "execution_count": 694,
   "metadata": {},
   "outputs": [
    {
     "data": {
      "text/plain": [
       "GridSearchCV(cv=RepeatedStratifiedKFold(n_repeats=3, n_splits=10, random_state=1),\n",
       "             error_score=nan,\n",
       "             estimator=RandomForestClassifier(bootstrap=True, ccp_alpha=0.0,\n",
       "                                              class_weight='balanced',\n",
       "                                              criterion='gini', max_depth=None,\n",
       "                                              max_features='auto',\n",
       "                                              max_leaf_nodes=None,\n",
       "                                              max_samples=None,\n",
       "                                              min_impurity_decrease=0.0,\n",
       "                                              min_impurity_split=None,\n",
       "                                              min_samples_leaf=1,\n",
       "                                              min_sample...\n",
       "                                              n_estimators=100, n_jobs=None,\n",
       "                                              oob_score=False,\n",
       "                                              random_state=None, verbose=0,\n",
       "                                              warm_start=False),\n",
       "             iid='deprecated', n_jobs=None,\n",
       "             param_grid={'criterion': ['gini'], 'max_depth': [2],\n",
       "                         'max_features': ['auto'], 'min_samples_leaf': [1],\n",
       "                         'min_samples_split': [2], 'n_estimators': [500]},\n",
       "             pre_dispatch='2*n_jobs', refit=True, return_train_score=True,\n",
       "             scoring=make_scorer(fbeta_score, beta=2), verbose=0)"
      ]
     },
     "execution_count": 694,
     "metadata": {},
     "output_type": "execute_result"
    }
   ],
   "source": [
    "#random forest\n",
    "from sklearn.model_selection import RepeatedStratifiedKFold\n",
    "rf = RandomForestClassifier(class_weight='balanced')\n",
    "\n",
    "cv = RepeatedStratifiedKFold(n_splits=10, n_repeats=3, random_state=1)\n",
    "\n",
    "scores = cross_val_score(rf, X_train, y_train, scoring=f2score , cv=cv, n_jobs=-1)\n",
    "rfc_param = { \n",
    "    'n_estimators': [500],\n",
    "    'max_features': ['auto'],\n",
    "    'max_depth' : [2],\n",
    "    'criterion' :['gini'],\n",
    "    'min_samples_split':[2],\n",
    "    'min_samples_leaf':[1]\n",
    "}\n",
    "rfc_grid2 = GridSearchCV(rf, rfc_param,cv=cv, return_train_score=True, scoring = f2score)\n",
    "rfc_grid2.fit(X_train,y_train)"
   ]
  },
  {
   "cell_type": "code",
   "execution_count": 701,
   "metadata": {},
   "outputs": [
    {
     "name": "stdout",
     "output_type": "stream",
     "text": [
      "Mean cross_val_score F2: 0.813\n",
      "\n",
      "Best Mean Cross Validation Score is 0.7301770241424309\n",
      "\n",
      "RFC Test Performance:  0.7398406374501992\n",
      "RFC Val Performance:  0.7443131581062615\n",
      "\n"
     ]
    }
   ],
   "source": [
    "print('Mean cross_val_score F2: %.3f' % scores.mean())\n",
    "print()\n",
    "print(f'Best Mean Cross Validation Score is {rfc_grid2.best_score_}')\n",
    "print()\n",
    "print(\"RFC Test Performance: \",rfc_grid2.score(X_test,y_test))\n",
    "print(\"RFC Val Performance: \",rfc_grid2.score(X_val,y_val))\n",
    "print()"
   ]
  },
  {
   "cell_type": "markdown",
   "metadata": {},
   "source": [
    "#### Extra Trees"
   ]
  },
  {
   "cell_type": "code",
   "execution_count": 699,
   "metadata": {},
   "outputs": [],
   "source": [
    "#extratrees\n",
    "etc = ExtraTreesClassifier(n_estimators=200, class_weight='balanced')\n",
    "etc_param = { \n",
    "    'max_features': ['auto'],\n",
    "    'max_depth' : [2],\n",
    "    'criterion' :['gini'],\n",
    "    'min_samples_split':[2],\n",
    "    'min_samples_leaf':[1]\n",
    "}\n",
    "\n",
    "cv = RepeatedStratifiedKFold(n_splits=10, n_repeats=3, random_state=1)\n",
    "\n",
    "scores = cross_val_score(rf, X_train, y_train, scoring='roc_auc', cv=cv, n_jobs=-1)\n",
    "\n",
    "etc_grid2=GridSearchCV(etc, etc_param, cv=cv, return_train_score=True, scoring = 'roc_auc')\n",
    "etc_grid2.fit(X_train,y_train)"
   ]
  },
  {
   "cell_type": "code",
   "execution_count": 705,
   "metadata": {},
   "outputs": [
    {
     "name": "stdout",
     "output_type": "stream",
     "text": [
      "Mean cross_val_score ROC AUC: 0.813\n",
      "\n",
      "Best Mean Cross Validation Score is 0.8135614001693463\n",
      "\n",
      "ETC Test Performance:  0.8174020931777854\n",
      "ETC Val Performance:  0.8314012446318162\n",
      "\n"
     ]
    }
   ],
   "source": [
    "print('Mean cross_val_score ROC AUC: %.3f' % scores.mean())\n",
    "print()\n",
    "print(f'Best Mean Cross Validation Score is {etc_grid2.best_score_}')\n",
    "print()\n",
    "print(\"ETC Test Performance: \",etc_grid2.score(X_test,y_test))\n",
    "print(\"ETC Val Performance: \",etc_grid2.score(X_val,y_val))\n",
    "print()"
   ]
  },
  {
   "cell_type": "code",
   "execution_count": 706,
   "metadata": {},
   "outputs": [
    {
     "data": {
      "text/plain": [
       "GridSearchCV(cv=RepeatedStratifiedKFold(n_repeats=3, n_splits=10, random_state=1),\n",
       "             error_score=nan,\n",
       "             estimator=ExtraTreesClassifier(bootstrap=False, ccp_alpha=0.0,\n",
       "                                            class_weight='balanced',\n",
       "                                            criterion='gini', max_depth=None,\n",
       "                                            max_features='auto',\n",
       "                                            max_leaf_nodes=None,\n",
       "                                            max_samples=None,\n",
       "                                            min_impurity_decrease=0.0,\n",
       "                                            min_impurity_split=None,\n",
       "                                            min_samples_leaf=1,\n",
       "                                            min_samples...\n",
       "                                            n_estimators=200, n_jobs=None,\n",
       "                                            oob_score=False, random_state=None,\n",
       "                                            verbose=0, warm_start=False),\n",
       "             iid='deprecated', n_jobs=None,\n",
       "             param_grid={'criterion': ['gini'], 'max_depth': [2],\n",
       "                         'max_features': ['auto'], 'min_samples_leaf': [1],\n",
       "                         'min_samples_split': [2]},\n",
       "             pre_dispatch='2*n_jobs', refit=True, return_train_score=True,\n",
       "             scoring=make_scorer(fbeta_score, beta=2), verbose=0)"
      ]
     },
     "execution_count": 706,
     "metadata": {},
     "output_type": "execute_result"
    }
   ],
   "source": [
    "#extratrees\n",
    "etc = ExtraTreesClassifier(n_estimators=200, class_weight='balanced')\n",
    "etc_param = { \n",
    "    'max_features': ['auto'],\n",
    "    'max_depth' : [2],\n",
    "    'criterion' :['gini'],\n",
    "    'min_samples_split':[2],\n",
    "    'min_samples_leaf':[1]\n",
    "}\n",
    "\n",
    "cv = RepeatedStratifiedKFold(n_splits=10, n_repeats=3, random_state=1)\n",
    "\n",
    "scores = cross_val_score(rf, X_train, y_train, scoring=f2score, cv=cv, n_jobs=-1)\n",
    "\n",
    "etc_grid3=GridSearchCV(etc, etc_param, cv=cv, return_train_score=True, scoring = f2score)\n",
    "etc_grid3.fit(X_train,y_train)"
   ]
  },
  {
   "cell_type": "code",
   "execution_count": 707,
   "metadata": {},
   "outputs": [
    {
     "name": "stdout",
     "output_type": "stream",
     "text": [
      "Mean cross_val_score ROC AUC: 0.846\n",
      "\n",
      "Best Mean Cross Validation Score is 0.7399330192161339\n",
      "\n",
      "ETC Test Performance:  0.7526157260621432\n",
      "ETC Val Performance:  0.760938997125519\n",
      "\n"
     ]
    }
   ],
   "source": [
    "print('Mean cross_val_score ROC AUC: %.3f' % scores.mean())\n",
    "print()\n",
    "print(f'Best Mean Cross Validation Score is {etc_grid3.best_score_}')\n",
    "print()\n",
    "print(\"ETC Test Performance: \",etc_grid3.score(X_test,y_test))\n",
    "print(\"ETC Val Performance: \",etc_grid3.score(X_val,y_val))\n",
    "print()"
   ]
  },
  {
   "cell_type": "markdown",
   "metadata": {},
   "source": [
    "#### BalancedBaggingClassifier"
   ]
  },
  {
   "cell_type": "code",
   "execution_count": 739,
   "metadata": {},
   "outputs": [
    {
     "name": "stdout",
     "output_type": "stream",
     "text": [
      "Mean ROC AUC: 0.803\n"
     ]
    }
   ],
   "source": [
    "#Bagging decision tree with under sampling\n",
    "from imblearn.ensemble import BalancedBaggingClassifier\n",
    "\n",
    "b_dtree = BalancedBaggingClassifier()\n",
    "\n",
    "cv = RepeatedStratifiedKFold(n_splits=10, n_repeats=3, random_state=1)\n",
    "\n",
    "scores = cross_val_score(b_dtree, X_train, y_train, scoring='roc_auc', cv=cv, n_jobs=-1)\n",
    "\n",
    "print('Mean ROC AUC: %.3f' % scores.mean())"
   ]
  },
  {
   "cell_type": "code",
   "execution_count": 715,
   "metadata": {},
   "outputs": [
    {
     "name": "stdout",
     "output_type": "stream",
     "text": [
      "Mean F2Score: 0.753\n"
     ]
    }
   ],
   "source": [
    "#Bagging decision tree with under sampling\n",
    "from imblearn.ensemble import BalancedBaggingClassifier\n",
    "\n",
    "b_dtree2 = BalancedBaggingClassifier()\n",
    "\n",
    "cv = RepeatedStratifiedKFold(n_splits=10, n_repeats=3, random_state=1)\n",
    "\n",
    "scores = cross_val_score(b_dtree, X_train, y_train, scoring=f2score, cv=cv, n_jobs=-1)\n",
    "\n",
    "print('Mean F2Score: %.3f' % scores.mean())"
   ]
  },
  {
   "cell_type": "markdown",
   "metadata": {},
   "source": [
    "## Data Sampling"
   ]
  },
  {
   "cell_type": "code",
   "execution_count": 729,
   "metadata": {},
   "outputs": [],
   "source": [
    "from imblearn.over_sampling import SMOTE\n",
    "from imblearn.pipeline import Pipeline\n",
    "from numpy import mean\n",
    "from imblearn.under_sampling import RandomUnderSampler"
   ]
  },
  {
   "cell_type": "markdown",
   "metadata": {},
   "source": [
    "#### Decision Tree"
   ]
  },
  {
   "cell_type": "code",
   "execution_count": 755,
   "metadata": {},
   "outputs": [
    {
     "name": "stdout",
     "output_type": "stream",
     "text": [
      "Best parameters: {'smote__k_neighbors': 2}\n",
      "Best Mean cross-validation score: 0.78\n",
      "\n",
      "Test Performance:  0.772829196628779\n",
      "Val Performance:  0.7619121890353271\n",
      "\n"
     ]
    }
   ],
   "source": [
    "#decisiontreee with over sampling\n",
    "pipe_roc_dtree = Pipeline([('smote',SMOTE()),\n",
    "                           ('dtree',DecisionTreeClassifier())])\n",
    "param_roc_dtree = {'smote__k_neighbors': [1,2,3,4,5]}\n",
    "\n",
    "ogrid_dtree= GridSearchCV(pipe_roc_dtree,param_roc_dtree, cv=5, n_jobs=2, scoring=f2score)\n",
    "ogrid_dtree.fit(X_train, y_train)\n",
    "\n",
    "print(\"Best parameters: {}\".format(ogrid_dtree.best_params_))\n",
    "print(\"Best Mean cross-validation score: {:.2f}\".format(ogrid_dtree.best_score_))\n",
    "print()\n",
    "print(\"Test Performance: \",ogrid_dtree.score(X_test,y_test))\n",
    "print(\"Val Performance: \",ogrid_dtree.score(X_val,y_val))\n",
    "print()"
   ]
  },
  {
   "cell_type": "code",
   "execution_count": 753,
   "metadata": {},
   "outputs": [
    {
     "name": "stdout",
     "output_type": "stream",
     "text": [
      "Best parameters: {'smote__k_neighbors': 2}\n",
      "Best Mean cross-validation score: 0.78\n",
      "\n",
      "Test Performance:  0.7698553862810301\n",
      "Val Performance:  0.7647930147345442\n",
      "\n"
     ]
    }
   ],
   "source": [
    "# decision tree on imbalanced dataset with SMOTE oversampling and random undersampling and stratified cv\n",
    "pipe_roc_dtree = Pipeline([('smote', SMOTE()),\n",
    "                           ('under', RandomUnderSampler()),\n",
    "                           ('dtree', DecisionTreeClassifier())])\n",
    "param_roc_dtree = {'smote__k_neighbors': [1,2,3,4,5]}\n",
    "\n",
    "cv = RepeatedStratifiedKFold(n_splits=10, n_repeats=3, random_state=1)\n",
    "ogrid_dtree= GridSearchCV(pipe_roc_dtree,param_roc_dtree, cv=cv, n_jobs=2, scoring=f2score)\n",
    "ogrid_dtree.fit(X_train, y_train)\n",
    "\n",
    "print(\"Best parameters: {}\".format(ogrid_dtree.best_params_))\n",
    "print(\"Best Mean cross-validation score: {:.2f}\".format(ogrid_dtree.best_score_))\n",
    "print()\n",
    "print(\"Test Performance: \",ogrid_dtree.score(X_test,y_test))\n",
    "print(\"Val Performance: \",ogrid_dtree.score(X_val,y_val))\n",
    "print()"
   ]
  },
  {
   "cell_type": "markdown",
   "metadata": {},
   "source": [
    "#### Logistic Regression"
   ]
  },
  {
   "cell_type": "code",
   "execution_count": 749,
   "metadata": {},
   "outputs": [
    {
     "name": "stdout",
     "output_type": "stream",
     "text": [
      "Best parameters: {'smote__k_neighbors': 1}\n",
      "Best Mean cross-validation score: 0.75\n",
      "\n",
      "Test Performance:  0.7580082461148112\n",
      "Val Performance:  0.752205292702486\n",
      "\n"
     ]
    }
   ],
   "source": [
    "# logistic regression with oversampling\n",
    "pipe_f2_lg = Pipeline([('smote',SMOTE()),('lg',LogisticRegression())])\n",
    "param_f2_lg = {'smote__k_neighbors': [1,2,3,4,5]}\n",
    "\n",
    "ogrid_lg= GridSearchCV(pipe_f2_lg,param_f2_lg, cv=5, n_jobs=2, scoring=f2score)\n",
    "ogrid_lg.fit(X_train, y_train)\n",
    "\n",
    "print(\"Best parameters: {}\".format(ogrid_lg.best_params_))\n",
    "print(\"Best Mean cross-validation score: {:.2f}\".format(ogrid_lg.best_score_))\n",
    "print()\n",
    "print(\"Test Performance: \",ogrid_lg.score(X_test,y_test))\n",
    "print(\"Val Performance: \",ogrid_lg.score(X_val,y_val))\n",
    "print()"
   ]
  },
  {
   "cell_type": "code",
   "execution_count": 756,
   "metadata": {},
   "outputs": [
    {
     "name": "stdout",
     "output_type": "stream",
     "text": [
      "Best parameters: {'smote__k_neighbors': 1}\n",
      "Best Mean cross-validation score: 0.75\n",
      "\n",
      "Test Performance:  0.7592577908175402\n",
      "Val Performance:  0.7509025270758122\n",
      "\n"
     ]
    }
   ],
   "source": [
    "#Logistic on imbalanced dataset with SMOTE oversampling and random undersampling and stratified cv\n",
    "pipe_roc_lg = Pipeline([('smote', SMOTE()),\n",
    "                           ('under', RandomUnderSampler()),\n",
    "                           ('dtree', LogisticRegression())])\n",
    "\n",
    "param_roc_lg = {'smote__k_neighbors': [1,2,3,4,5]}\n",
    "\n",
    "cv = RepeatedStratifiedKFold(n_splits=10, n_repeats=3, random_state=1)\n",
    "ogrid_lg= GridSearchCV(pipe_roc_lg, param_roc_lg, cv=cv, n_jobs=2, scoring=f2score)\n",
    "ogrid_lg.fit(X_train, y_train)\n",
    "\n",
    "print(\"Best parameters: {}\".format(ogrid_lg.best_params_))\n",
    "print(\"Best Mean cross-validation score: {:.2f}\".format(ogrid_lg.best_score_))\n",
    "print()\n",
    "print(\"Test Performance: \",ogrid_lg.score(X_test,y_test))\n",
    "print(\"Val Performance: \",ogrid_lg.score(X_val,y_val))\n",
    "print()"
   ]
  },
  {
   "cell_type": "markdown",
   "metadata": {},
   "source": [
    "#### KNN"
   ]
  },
  {
   "cell_type": "code",
   "execution_count": 758,
   "metadata": {},
   "outputs": [
    {
     "name": "stdout",
     "output_type": "stream",
     "text": [
      "Best parameters: {'smote__k_neighbors': 1}\n",
      "Best Mean cross-validation score: 0.75\n",
      "\n",
      "Test Performance:  0.7560723924432451\n",
      "Val Performance:  0.7497593068035944\n",
      "\n"
     ]
    }
   ],
   "source": [
    "# KNN with oversampling\n",
    "pipe_f2_knn = Pipeline([('smote',SMOTE()),('lg',LogisticRegression())])\n",
    "param_f2_knn = {'smote__k_neighbors': [1,2,3,4,5]}\n",
    "\n",
    "ogrid_knn= GridSearchCV(pipe_f2_knn,param_f2_knn, cv=5, n_jobs=2, scoring=f2score)\n",
    "ogrid_knn.fit(X_train, y_train)\n",
    "\n",
    "print(\"Best parameters: {}\".format(ogrid_knn.best_params_))\n",
    "print(\"Best Mean cross-validation score: {:.2f}\".format(ogrid_knn.best_score_))\n",
    "print()\n",
    "print(\"Test Performance: \",ogrid_knn.score(X_test,y_test))\n",
    "print(\"Val Performance: \",ogrid_knn.score(X_val,y_val))\n",
    "print()"
   ]
  },
  {
   "cell_type": "code",
   "execution_count": 759,
   "metadata": {},
   "outputs": [
    {
     "name": "stdout",
     "output_type": "stream",
     "text": [
      "Best parameters: {'smote__k_neighbors': 3}\n",
      "Best Mean cross-validation score: 0.75\n",
      "\n",
      "Test Performance:  0.7576959695334814\n",
      "Val Performance:  0.7503810058554584\n",
      "\n"
     ]
    }
   ],
   "source": [
    "#KNN on imbalanced dataset with SMOTE oversampling and random undersampling and stratified cv\n",
    "pipe_f2_knn = Pipeline([('smote', SMOTE()),\n",
    "                        ('under', RandomUnderSampler()),\n",
    "                        ('dtree', LogisticRegression())])\n",
    "\n",
    "param_f2_knn = {'smote__k_neighbors': [1,2,3,4,5]}\n",
    "\n",
    "cv = RepeatedStratifiedKFold(n_splits=10, n_repeats=3, random_state=1)\n",
    "ogrid_knn= GridSearchCV(pipe_f2_knn,param_f2_knn, cv=cv, n_jobs=-1, scoring=f2score)\n",
    "ogrid_knn.fit(X_train, y_train)\n",
    "\n",
    "print(\"Best parameters: {}\".format(ogrid_knn.best_params_))\n",
    "print(\"Best Mean cross-validation score: {:.2f}\".format(ogrid_knn.best_score_))\n",
    "print()\n",
    "print(\"Test Performance: \",ogrid_knn.score(X_test,y_test))\n",
    "print(\"Val Performance: \",ogrid_knn.score(X_val,y_val))\n",
    "print()"
   ]
  },
  {
   "cell_type": "markdown",
   "metadata": {},
   "source": [
    "#### SVM"
   ]
  },
  {
   "cell_type": "code",
   "execution_count": 761,
   "metadata": {},
   "outputs": [
    {
     "name": "stdout",
     "output_type": "stream",
     "text": [
      "Best parameters: {'smote__k_neighbors': 5}\n",
      "Best Mean cross-validation score: 0.71\n",
      "\n",
      "Test Performance:  0.7085118422116241\n",
      "Val Performance:  0.7109718378642357\n",
      "\n"
     ]
    }
   ],
   "source": [
    "# Kernel SVC with oversampling\n",
    "pipe_f2_svm = Pipeline([('smote',SMOTE()),('svm',SVC(C=0.01,kernel='rbf'))])\n",
    "param_f2_svm = {'smote__k_neighbors': [1,2,3,4,5]}\n",
    "\n",
    "ogrid_svm= GridSearchCV(pipe_f2_svm,param_f2_svm, cv=5, n_jobs=-1, scoring=f2score)\n",
    "ogrid_svm.fit(X_train, y_train)\n",
    "\n",
    "print(\"Best parameters: {}\".format(ogrid_svm.best_params_))\n",
    "print(\"Best Mean cross-validation score: {:.2f}\".format(ogrid_svm.best_score_))\n",
    "print()\n",
    "print(\"Test Performance: \",ogrid_svm.score(X_test,y_test))\n",
    "print(\"Val Performance: \",ogrid_svm.score(X_val,y_val))\n",
    "print()"
   ]
  },
  {
   "cell_type": "code",
   "execution_count": 762,
   "metadata": {},
   "outputs": [
    {
     "name": "stdout",
     "output_type": "stream",
     "text": [
      "Best parameters: {'smote__k_neighbors': 4}\n",
      "Best Mean cross-validation score: 0.71\n",
      "\n",
      "Test Performance:  0.7115741862531297\n",
      "Val Performance:  0.7180008126777733\n",
      "\n"
     ]
    }
   ],
   "source": [
    "#SVC on imbalanced dataset with SMOTE oversampling and random undersampling and stratified cv\n",
    "pipe_f2_svm = Pipeline([('smote', SMOTE()),\n",
    "                        ('under', RandomUnderSampler()),\n",
    "                        ('svm',SVC(C=0.01,kernel='rbf'))])\n",
    "\n",
    "param_f2_svm = {'smote__k_neighbors': [1,2,3,4,5]}\n",
    "\n",
    "cv = RepeatedStratifiedKFold(n_splits=5, n_repeats=3, random_state=1)\n",
    "ogrid_svm= GridSearchCV(pipe_f2_svm,param_f2_svm, cv=cv, n_jobs=-1, scoring=f2score)\n",
    "ogrid_svm.fit(X_train, y_train)\n",
    "\n",
    "print(\"Best parameters: {}\".format(ogrid_svm.best_params_))\n",
    "print(\"Best Mean cross-validation score: {:.2f}\".format(ogrid_svm.best_score_))\n",
    "print()\n",
    "print(\"Test Performance: \",ogrid_svm.score(X_test,y_test))\n",
    "print(\"Val Performance: \",ogrid_svm.score(X_val,y_val))\n",
    "print()"
   ]
  },
  {
   "cell_type": "markdown",
   "metadata": {},
   "source": [
    "#### Random Forest"
   ]
  },
  {
   "cell_type": "code",
   "execution_count": 763,
   "metadata": {},
   "outputs": [
    {
     "name": "stdout",
     "output_type": "stream",
     "text": [
      "Best parameters: {'smote__k_neighbors': 1}\n",
      "Best Mean cross-validation score: 0.82\n",
      "\n",
      "Test Performance:  0.8184271395528142\n",
      "Val Performance:  0.8193032818682597\n",
      "\n"
     ]
    }
   ],
   "source": [
    "# Random Forest with oversampling\n",
    "pipe_f2_rfc = Pipeline([('smote',SMOTE()),('rfc',RandomForestClassifier())])\n",
    "param_f2_rfc = {'smote__k_neighbors': [1,2,3,4,5]}\n",
    "\n",
    "ogrid_rfc= GridSearchCV(pipe_f2_rfc, param_f2_rfc, cv=5, n_jobs=-1, scoring=f2score)\n",
    "ogrid_rfc.fit(X_train, y_train)\n",
    "\n",
    "print(\"Best parameters: {}\".format(ogrid_rfc.best_params_))\n",
    "print(\"Best Mean cross-validation score: {:.2f}\".format(ogrid_rfc.best_score_))\n",
    "print()\n",
    "print(\"Test Performance: \",ogrid_rfc.score(X_test,y_test))\n",
    "print(\"Val Performance: \",ogrid_rfc.score(X_val,y_val))\n",
    "print()"
   ]
  },
  {
   "cell_type": "code",
   "execution_count": 764,
   "metadata": {},
   "outputs": [
    {
     "name": "stdout",
     "output_type": "stream",
     "text": [
      "Best parameters: {'smote__k_neighbors': 1}\n",
      "Best Mean cross-validation score: 0.82\n",
      "\n",
      "Test Performance:  0.8174040388469245\n",
      "Val Performance:  0.8137727343385667\n",
      "\n"
     ]
    }
   ],
   "source": [
    "# Random Forest on imbalanced dataset with SMOTE oversampling and random undersampling and stratified cv\n",
    "pipe_f2_rfc = Pipeline([('smote',SMOTE()),\n",
    "                        ('under', RandomUnderSampler()),\n",
    "                        ('rfc',RandomForestClassifier())])\n",
    "param_f2_rfc = {'smote__k_neighbors': [1,2,3,4,5]}\n",
    "\n",
    "cv = RepeatedStratifiedKFold(n_splits=5, n_repeats=10, random_state=1)\n",
    "ogrid_rfc= GridSearchCV(pipe_f2_rfc, param_f2_rfc, cv=cv, n_jobs=-1, scoring=f2score)\n",
    "ogrid_rfc.fit(X_train, y_train)\n",
    "\n",
    "print(\"Best parameters: {}\".format(ogrid_rfc.best_params_))\n",
    "print(\"Best Mean cross-validation score: {:.2f}\".format(ogrid_rfc.best_score_))\n",
    "print()\n",
    "print(\"Test Performance: \",ogrid_rfc.score(X_test,y_test))\n",
    "print(\"Val Performance: \",ogrid_rfc.score(X_val,y_val))\n",
    "print()"
   ]
  },
  {
   "cell_type": "markdown",
   "metadata": {},
   "source": [
    "#### XGBoost"
   ]
  },
  {
   "cell_type": "code",
   "execution_count": 767,
   "metadata": {},
   "outputs": [
    {
     "name": "stdout",
     "output_type": "stream",
     "text": [
      "Best parameters: {'smote__k_neighbors': 5}\n",
      "Best Mean cross-validation score: 0.84\n",
      "\n",
      "Test Performance:  0.8367800245098038\n",
      "Val Performance:  0.8360389610389609\n",
      "\n"
     ]
    }
   ],
   "source": [
    "#xgb\n",
    "pipe_roc_xgb = Pipeline([('smote',SMOTE()),\n",
    "                         ('xgb',XGBClassifier())])\n",
    "\n",
    "param_roc_xgb = {'smote__k_neighbors': [3,4,5]}\n",
    "\n",
    "ogrid_xgb= GridSearchCV(pipe_roc_xgb,param_roc_xgb, cv=5, n_jobs=2, scoring=f2score)\n",
    "ogrid_xgb.fit(X_train, y_train)\n",
    "\n",
    "print(\"Best parameters: {}\".format(ogrid_xgb.best_params_))\n",
    "print(\"Best Mean cross-validation score: {:.2f}\".format(ogrid_xgb.best_score_))\n",
    "print()\n",
    "print(\"Test Performance: \",ogrid_xgb.score(X_test,y_test))\n",
    "print(\"Val Performance: \",ogrid_xgb.score(X_val,y_val))\n",
    "print()"
   ]
  },
  {
   "cell_type": "code",
   "execution_count": 768,
   "metadata": {},
   "outputs": [
    {
     "name": "stdout",
     "output_type": "stream",
     "text": [
      "Best parameters: {'smote__k_neighbors': 4}\n",
      "Best Mean cross-validation score: 0.84\n",
      "\n",
      "Test Performance:  0.8312864599324531\n",
      "Val Performance:  0.8334621926704809\n",
      "\n"
     ]
    }
   ],
   "source": [
    "#xgb\n",
    "pipe_roc_xgb = Pipeline([('smote',SMOTE()),\n",
    "                         ('under', RandomUnderSampler()),\n",
    "                         ('xgb', XGBClassifier())])\n",
    "\n",
    "param_roc_xgb = {'smote__k_neighbors': [3,4,5]}\n",
    "\n",
    "cv = RepeatedStratifiedKFold(n_splits=5, n_repeats=10, random_state=1)\n",
    "ogrid_xgb= GridSearchCV(pipe_roc_xgb,param_roc_xgb, cv=cv, n_jobs=-1, scoring=f2score)\n",
    "ogrid_xgb.fit(X_train, y_train)\n",
    "\n",
    "print(\"Best parameters: {}\".format(ogrid_xgb.best_params_))\n",
    "print(\"Best Mean cross-validation score: {:.2f}\".format(ogrid_xgb.best_score_))\n",
    "print()\n",
    "print(\"Test Performance: \",ogrid_xgb.score(X_test,y_test))\n",
    "print(\"Val Performance: \",ogrid_xgb.score(X_val,y_val))\n",
    "print()"
   ]
  },
  {
   "cell_type": "code",
   "execution_count": 769,
   "metadata": {},
   "outputs": [
    {
     "name": "stdout",
     "output_type": "stream",
     "text": [
      "Best parameters: {'smote__k_neighbors': 1}\n",
      "Best Mean cross-validation score: 0.81\n"
     ]
    }
   ],
   "source": [
    "#easy ensemble classifier\n",
    "from imblearn.ensemble import EasyEnsembleClassifier\n",
    "pipe_roc_ee = Pipeline([('smote',SMOTE()),('ee',EasyEnsembleClassifier())])\n",
    "param_roc_ee = {'smote__k_neighbors': [1,2,3,4,5]}\n",
    "\n",
    "ogrid_ee= GridSearchCV(pipe_roc_ee,param_roc_ee, cv=5, n_jobs=2, scoring=f2score)\n",
    "ogrid_ee.fit(X_train, y_train)\n",
    "\n",
    "print(\"Best parameters: {}\".format(ogrid_ee.best_params_))\n",
    "print(\"Best Mean cross-validation score: {:.2f}\".format(ogrid_ee.best_score_))"
   ]
  },
  {
   "cell_type": "code",
   "execution_count": 771,
   "metadata": {},
   "outputs": [],
   "source": [
    "#top 5 estimators\n",
    "estimators_ = [('dtree',ogrid_dtree.best_estimator_),\n",
    "            ('rf',ogrid_rfc.best_estimator_),('svm',ogrid_svm.best_estimator_),\n",
    "            ('knn',ogrid_knn.best_estimator_),('xgb',ogrid_xgb.best_estimator_)]"
   ]
  },
  {
   "cell_type": "code",
   "execution_count": 772,
   "metadata": {},
   "outputs": [
    {
     "name": "stdout",
     "output_type": "stream",
     "text": [
      "Best Mean Cross Validation Score is 0.8545431507700145\n",
      "Best Mean Cross Validation params is {'final_estimator__C': 0.1, 'stack_method': 'auto'}\n",
      "Train score is 0.9159582095667315\n",
      "Test score is 0.8555926544240402\n"
     ]
    }
   ],
   "source": [
    "from sklearn.ensemble import StackingClassifier\n",
    "sclf2 = StackingClassifier(estimators= estimators_\n",
    "                            , final_estimator=LogisticRegression())\n",
    "sclf2_param = {\n",
    "              'final_estimator__C' : [0.1,0.2],\n",
    "              'stack_method':['auto']\n",
    "             }\n",
    "sclf2_grid = GridSearchCV(sclf2, sclf2_param,cv=5, return_train_score=True,scoring=f2score)\n",
    "sclf2_grid.fit(X_train,y_train)\n",
    "\n",
    "print(f'Best Mean Cross Validation Score is {sclf2_grid.best_score_}')\n",
    "print(f'Best Mean Cross Validation params is {sclf2_grid.best_params_}')\n",
    "print(f'Train score is {sclf2_grid.score(X_train,y_train)}')\n",
    "print(f'Test score is {sclf2_grid.score(X_test,y_test)}')"
   ]
  }
 ],
 "metadata": {
  "kernelspec": {
   "display_name": "Python 3",
   "language": "python",
   "name": "python3"
  },
  "language_info": {
   "codemirror_mode": {
    "name": "ipython",
    "version": 3
   },
   "file_extension": ".py",
   "mimetype": "text/x-python",
   "name": "python",
   "nbconvert_exporter": "python",
   "pygments_lexer": "ipython3",
   "version": "3.7.4"
  },
  "toc": {
   "base_numbering": 1,
   "nav_menu": {},
   "number_sections": true,
   "sideBar": true,
   "skip_h1_title": false,
   "title_cell": "Table of Contents",
   "title_sidebar": "Contents",
   "toc_cell": false,
   "toc_position": {
    "height": "calc(100% - 180px)",
    "left": "10px",
    "top": "150px",
    "width": "341.292px"
   },
   "toc_section_display": true,
   "toc_window_display": true
  }
 },
 "nbformat": 4,
 "nbformat_minor": 4
}
